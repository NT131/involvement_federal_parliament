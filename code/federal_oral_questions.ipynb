{
 "cells": [
  {
   "cell_type": "markdown",
   "id": "f5791a93-2999-4f3e-a5ec-24d8f86c62c3",
   "metadata": {},
   "source": [
    "The website of the Belgian federal parliament also documents the oral questions members of parliament ask (both in [commissions](https://www.dekamer.be/kvvcr/showpage.cfm?section=/cricra&language=nl&cfm=dcricra.cfm?type=comm&cricra=cri&count=all) and in the plenary). There, an overview of oral questions and motions is available, both in pdf, pda and html format. In some cases, there is only a pdf version available. However, closer inspection of those cases indicates that the pdf simply indicates that the questions were postponed. So in all cases where questions were actually discussed, there is an html version. "
   ]
  },
  {
   "cell_type": "markdown",
   "id": "6eb8571a-7da9-472a-a615-188fff441c3d",
   "metadata": {},
   "source": [
    "# Setting up"
   ]
  },
  {
   "cell_type": "code",
   "execution_count": 1,
   "id": "b17afd73-d5a8-4b65-9839-74c8f3bf8d70",
   "metadata": {},
   "outputs": [],
   "source": [
    "# show all outputs of cell, not merely of last line (i.e. default of Jupyter Notebook)\n",
    "from IPython.core.interactiveshell import InteractiveShell\n",
    "InteractiveShell.ast_node_interactivity = \"all\""
   ]
  },
  {
   "cell_type": "code",
   "execution_count": 2,
   "id": "7667836b-d0b0-4249-834f-18b8f877b848",
   "metadata": {},
   "outputs": [],
   "source": [
    "# import os\n",
    "import requests\n",
    "from bs4 import BeautifulSoup\n",
    "\n",
    "import pandas as pd\n",
    "\n",
    "import re\n",
    "import pickle"
   ]
  },
  {
   "cell_type": "code",
   "execution_count": 3,
   "id": "81c9dfcb-56bb-47cf-bc10-cc70b4e9cd74",
   "metadata": {},
   "outputs": [],
   "source": [
    "# Define url of url with overview of meetings\n",
    "url_oral_questions_all_meetings = \"https://www.dekamer.be/kvvcr/showpage.cfm?section=/cricra&language=nl&cfm=dcricra.cfm?type=comm&cricra=cri&count=all\""
   ]
  },
  {
   "cell_type": "markdown",
   "id": "d845fccc-1258-4560-a7f5-348d593ea988",
   "metadata": {},
   "source": [
    "# Members of parliament"
   ]
  },
  {
   "cell_type": "markdown",
   "id": "e750b977-c71c-4c70-a1c9-6b6479ac42ef",
   "metadata": {},
   "source": [
    "First we obtain a list of all members of parliament and their parties, as avaiable on the [website](https://www.dekamer.be/kvvcr/showpage.cfm?section=/depute&language=nl&cfm=/site/wwwcfm/depute/cvlist54.cfm) of parliament."
   ]
  },
  {
   "cell_type": "code",
   "execution_count": 4,
   "id": "ef786c46-107a-46bd-897d-2ae12782287e",
   "metadata": {},
   "outputs": [],
   "source": [
    "# url_members = \"https://www.dekamer.be/kvvcr/showpage.cfm?section=/depute&language=nl&cfm=/site/wwwcfm/depute/cvlist54.cfm\"\n",
    "\n",
    "# response = requests.get(url_members)\n",
    "\n",
    "# if response.status_code == 200:\n",
    "#     # Parse the HTML string\n",
    "#     soup = BeautifulSoup(response.text, 'html.parser')\n",
    "    \n",
    "#     # Find all <tr> tags\n",
    "#     rows = soup.find_all('tr')\n",
    "    \n",
    "#     # Define regular expressions to extract names and parties\n",
    "#     name_pattern = re.compile(r'<b>(.*?)</b>')\n",
    "#     party_pattern = re.compile(r'>(.*?)</A>')\n",
    "    \n",
    "#     # Initialize lists to store names and parties\n",
    "#     names = []\n",
    "#     parties = []\n",
    "    \n",
    "#     # Extract names and parties from each <tr> tag\n",
    "#     for row in rows:\n",
    "#         # Find the <b> tag within the <td> tag to get the name\n",
    "#         name_tag = row.find('b')\n",
    "#         if name_tag:\n",
    "#             names.append(name_tag.get_text(strip=True))\n",
    "        \n",
    "#         # Find the text within the <td> tag to get the party\n",
    "#         party_tag = row.find('td', class_='td1' if 'td1' in row['class'] else 'td0')\n",
    "#         if party_tag:\n",
    "#             party = party_tag.get_text(strip=True)\n",
    "#             # Remove any whitespace around the party name\n",
    "#             party = party.strip()\n",
    "#             parties.append(party)\n",
    "    \n",
    "#     # Combine names and parties into a list of tuples\n",
    "#     members_parties = list(zip(names, parties))\n",
    "    \n",
    "# else:\n",
    "#     print(f\"Failed to retrieve the page. Status code: {response.status_code}\")"
   ]
  },
  {
   "cell_type": "code",
   "execution_count": 5,
   "id": "dc1896fd-7d6c-4843-9f79-4f6eb6166d93",
   "metadata": {},
   "outputs": [],
   "source": [
    "# members_parties"
   ]
  },
  {
   "cell_type": "markdown",
   "id": "ab67ee5f-a432-432c-b3bb-a0390ba4d4a0",
   "metadata": {},
   "source": [
    "# Extracting urls of different reports of every meeting"
   ]
  },
  {
   "cell_type": "code",
   "execution_count": 6,
   "id": "39c14cad-0845-4ad7-b895-f63237de7fbf",
   "metadata": {},
   "outputs": [],
   "source": [
    "# def scrape_list_reports(url):\n",
    "#     response = requests.get(url)\n",
    "    \n",
    "#     if response.status_code == 200:\n",
    "#         soup = BeautifulSoup(response.text, 'html.parser')\n",
    "\n",
    "#         # Find all <a> tags with the title 'Kopieervriendelijke HTML versie'\n",
    "#         links = soup.find_all('a', title='Kopieervriendelijke HTML versie')\n",
    "        \n",
    "#         # Extract URLs from the links and append to main stem to get workable url\n",
    "#         urls = [\"https://www.dekamer.be\" + link['href'] for link in links]\n",
    "        \n",
    "#         return urls\n",
    "\n",
    "#     else:\n",
    "#         print(f\"Failed to retrieve the page. Status code: {response.status_code}\")"
   ]
  },
  {
   "cell_type": "code",
   "execution_count": 7,
   "id": "f1f679ea-852a-4769-b5d1-f0219556330c",
   "metadata": {},
   "outputs": [],
   "source": [
    "# # Obtain relevant urls\n",
    "# urls_all_meetings = scrape_list_reports(url_oral_questions_all_meetings)"
   ]
  },
  {
   "cell_type": "code",
   "execution_count": 8,
   "id": "2962a51c-d5ad-4ef7-ae0a-b76c6a23d528",
   "metadata": {},
   "outputs": [],
   "source": [
    "# # Assess results\n",
    "# urls_all_meetings[:10]\n",
    "# urls_all_meetings[-10:]\n",
    "# len(urls_all_meetings)"
   ]
  },
  {
   "cell_type": "code",
   "execution_count": 9,
   "id": "32eeeaf0-0e32-4f56-97e2-8eafdc0c4c98",
   "metadata": {},
   "outputs": [],
   "source": [
    "# # +++++++++++++++++++++++++++++++++++++++++++++++++++++++++++++++++\n",
    "# # limit amounf of pages for testing\n",
    "# urls_all_meetings = urls_all_meetings[:3]\n",
    "# urls_all_meetings\n",
    "# # +++++++++++++++++++++++++++++++++++++++++++++++++++++++++++++++++"
   ]
  },
  {
   "cell_type": "markdown",
   "id": "dba98d17-1dc8-4cbc-9cf4-ef18cacb54ae",
   "metadata": {},
   "source": [
    "# Obtain date and commission"
   ]
  },
  {
   "cell_type": "code",
   "execution_count": 10,
   "id": "4798be3e-456d-4350-9856-0336ef494603",
   "metadata": {},
   "outputs": [],
   "source": [
    "# def extract_info_from_html(html_content):\n",
    "#     soup = BeautifulSoup(html_content, 'html.parser')\n",
    "#     table_rows = soup.find_all('tr')\n",
    "\n",
    "#     for row in table_rows:\n",
    "#         cells = row.find_all('td')\n",
    "#         if cells:\n",
    "#             date = cells[2].get_text(strip=True)\n",
    "#             # link = cells[3].find('a', title=\"Kopieervriendelijke HTML versie\")[\"href\"]\n",
    "#             html_link = cells[3].find('a', title=\"Kopieervriendelijke HTML versie\")\n",
    "#             if html_link:\n",
    "#                 link = html_link['href']\n",
    "#             else:\n",
    "#                 link = None\n",
    "#             committee = cells[5].get_text(strip=True)\n",
    "#             yield date, link, committee"
   ]
  },
  {
   "cell_type": "code",
   "execution_count": 11,
   "id": "0c017127-9f83-47bd-a009-5a1cdad4c9a5",
   "metadata": {},
   "outputs": [],
   "source": [
    "def extract_info_from_html(html_content):\n",
    "    soup = BeautifulSoup(html_content, 'html.parser')\n",
    "    table_rows = soup.find_all('tr')\n",
    "\n",
    "    for row in table_rows:\n",
    "        cells = row.find_all('td')\n",
    "        if cells:\n",
    "            html_link = cells[3].find('a', title=\"Kopieervriendelijke HTML versie\")\n",
    "            # For some meetings there is no html page available, but there is a pdf. \n",
    "            # However, this pdf simply indicates that the questions were postponed. \n",
    "            # So then this row can be skipped.\n",
    "            if html_link:\n",
    "                date = cells[2].get_text(strip=True)\n",
    "                link = html_link['href']\n",
    "                committee = cells[5].get_text(strip=True)\n",
    "                yield date, link, committee\n"
   ]
  },
  {
   "cell_type": "code",
   "execution_count": 12,
   "id": "74c1e3c4-3f40-41e9-be98-e25d8965aa46",
   "metadata": {},
   "outputs": [],
   "source": [
    "def extract_info_from_hyperlink(url):\n",
    "    response = requests.get(url)\n",
    "    if response.status_code == 200:\n",
    "        return extract_info_from_html(response.content)\n",
    "    else:\n",
    "        print(\"Failed to fetch HTML content from the provided URL.\")\n",
    "        return None"
   ]
  },
  {
   "cell_type": "code",
   "execution_count": 13,
   "id": "26929197-fd36-4a51-b4ef-931347cbd81a",
   "metadata": {},
   "outputs": [],
   "source": [
    "# Extract information from the provided hyperlink\n",
    "info_generator = extract_info_from_hyperlink(url_oral_questions_all_meetings)\n",
    "\n",
    "meeting_information_list = []\n",
    "\n",
    "if info_generator:\n",
    "    for date, html_url, committee in info_generator:\n",
    "        # print(\"Date:\", date)\n",
    "        # print(\"Link:\", link)\n",
    "        # print(\"Committee:\", committee)\n",
    "\n",
    "        meeting_information_list.append([date, \"https://www.dekamer.be\" + html_url, committee])\n",
    "else:\n",
    "    print(\"Exiting...\")\n",
    "\n"
   ]
  },
  {
   "cell_type": "code",
   "execution_count": 14,
   "id": "fd12e45c-e85e-4abe-9b16-7587b2c21c5c",
   "metadata": {},
   "outputs": [],
   "source": [
    "# meeting_information_list"
   ]
  },
  {
   "cell_type": "code",
   "execution_count": 15,
   "id": "244828ce-2cda-4c14-8868-c89997637c65",
   "metadata": {},
   "outputs": [],
   "source": [
    "# for i in info_generator:\n",
    "#     print(i)"
   ]
  },
  {
   "cell_type": "code",
   "execution_count": null,
   "id": "627addb7-1f40-42d6-abef-2be60682887f",
   "metadata": {},
   "outputs": [],
   "source": []
  },
  {
   "cell_type": "code",
   "execution_count": 16,
   "id": "a0bcf2ba-7dc9-4281-b0ea-4cac9ea3a9b5",
   "metadata": {},
   "outputs": [],
   "source": [
    "\n",
    "# meeting_information_list = []\n",
    "# if info_generator:\n",
    "    \n",
    "#     meeting_information_list.append([info_generator])\n",
    "\n"
   ]
  },
  {
   "cell_type": "code",
   "execution_count": 17,
   "id": "6e817777-3332-47a6-9a2a-0cff61cc833e",
   "metadata": {},
   "outputs": [],
   "source": [
    "# Turn list into dataframe\n",
    "meeting_information_df = pd.DataFrame(meeting_information_list,\n",
    "                                 columns = [\"Datum\", \"Url\", \"Commissie\"])\n",
    "\n"
   ]
  },
  {
   "cell_type": "code",
   "execution_count": 18,
   "id": "c1d742f0-142d-4ea6-b14f-d998df41ffbe",
   "metadata": {},
   "outputs": [
    {
     "data": {
      "text/html": [
       "<div>\n",
       "<style scoped>\n",
       "    .dataframe tbody tr th:only-of-type {\n",
       "        vertical-align: middle;\n",
       "    }\n",
       "\n",
       "    .dataframe tbody tr th {\n",
       "        vertical-align: top;\n",
       "    }\n",
       "\n",
       "    .dataframe thead th {\n",
       "        text-align: right;\n",
       "    }\n",
       "</style>\n",
       "<table border=\"1\" class=\"dataframe\">\n",
       "  <thead>\n",
       "    <tr style=\"text-align: right;\">\n",
       "      <th></th>\n",
       "      <th>Datum</th>\n",
       "      <th>Url</th>\n",
       "      <th>Commissie</th>\n",
       "    </tr>\n",
       "  </thead>\n",
       "  <tbody>\n",
       "    <tr>\n",
       "      <th>0</th>\n",
       "      <td>21 februari 2024</td>\n",
       "      <td>https://www.dekamer.be/doc/CCRI/html/55/ic1276...</td>\n",
       "      <td>Commissie voor Sociale Zaken, Werk en Pensioenen</td>\n",
       "    </tr>\n",
       "    <tr>\n",
       "      <th>1</th>\n",
       "      <td>21 februari 2024</td>\n",
       "      <td>https://www.dekamer.be/doc/CCRI/html/55/ic1275...</td>\n",
       "      <td>Commissie voor Buitenlandse Betrekkingen</td>\n",
       "    </tr>\n",
       "    <tr>\n",
       "      <th>2</th>\n",
       "      <td>20 februari 2024</td>\n",
       "      <td>https://www.dekamer.be/doc/CCRI/html/55/ic1274...</td>\n",
       "      <td>Commissie voor Binnenlandse Zaken, Veiligheid,...</td>\n",
       "    </tr>\n",
       "    <tr>\n",
       "      <th>3</th>\n",
       "      <td>20 februari 2024</td>\n",
       "      <td>https://www.dekamer.be/doc/CCRI/html/55/ic1273...</td>\n",
       "      <td>Commissie voor Energie, Leefmilieu en Klimaat</td>\n",
       "    </tr>\n",
       "    <tr>\n",
       "      <th>4</th>\n",
       "      <td>20 februari 2024</td>\n",
       "      <td>https://www.dekamer.be/doc/CCRI/html/55/ic1272...</td>\n",
       "      <td>Commissie voor Buitenlandse Betrekkingen</td>\n",
       "    </tr>\n",
       "  </tbody>\n",
       "</table>\n",
       "</div>"
      ],
      "text/plain": [
       "              Datum  ...                                          Commissie\n",
       "0  21 februari 2024  ...   Commissie voor Sociale Zaken, Werk en Pensioenen\n",
       "1  21 februari 2024  ...           Commissie voor Buitenlandse Betrekkingen\n",
       "2  20 februari 2024  ...  Commissie voor Binnenlandse Zaken, Veiligheid,...\n",
       "3  20 februari 2024  ...      Commissie voor Energie, Leefmilieu en Klimaat\n",
       "4  20 februari 2024  ...           Commissie voor Buitenlandse Betrekkingen\n",
       "\n",
       "[5 rows x 3 columns]"
      ]
     },
     "execution_count": 18,
     "metadata": {},
     "output_type": "execute_result"
    },
    {
     "data": {
      "text/html": [
       "<div>\n",
       "<style scoped>\n",
       "    .dataframe tbody tr th:only-of-type {\n",
       "        vertical-align: middle;\n",
       "    }\n",
       "\n",
       "    .dataframe tbody tr th {\n",
       "        vertical-align: top;\n",
       "    }\n",
       "\n",
       "    .dataframe thead th {\n",
       "        text-align: right;\n",
       "    }\n",
       "</style>\n",
       "<table border=\"1\" class=\"dataframe\">\n",
       "  <thead>\n",
       "    <tr style=\"text-align: right;\">\n",
       "      <th></th>\n",
       "      <th>Datum</th>\n",
       "      <th>Url</th>\n",
       "      <th>Commissie</th>\n",
       "    </tr>\n",
       "  </thead>\n",
       "  <tbody>\n",
       "    <tr>\n",
       "      <th>1240</th>\n",
       "      <td>30 augustus 2019</td>\n",
       "      <td>https://www.dekamer.be/doc/CCRI/html/55/ic005x...</td>\n",
       "      <td>Commissie voor Buitenlandse Betrekkingen</td>\n",
       "    </tr>\n",
       "    <tr>\n",
       "      <th>1241</th>\n",
       "      <td>18 juli 2019</td>\n",
       "      <td>https://www.dekamer.be/doc/CCRI/html/55/ic004x...</td>\n",
       "      <td>Commissie voor Landsverdediging</td>\n",
       "    </tr>\n",
       "    <tr>\n",
       "      <th>1242</th>\n",
       "      <td>17 juli 2019</td>\n",
       "      <td>https://www.dekamer.be/doc/CCRI/html/55/ic003x...</td>\n",
       "      <td>Commissie voor Justitie</td>\n",
       "    </tr>\n",
       "    <tr>\n",
       "      <th>1243</th>\n",
       "      <td>16 juli 2019</td>\n",
       "      <td>https://www.dekamer.be/doc/CCRI/html/55/ic002x...</td>\n",
       "      <td>Commissie voor Binnenlandse Zaken, Veiligheid,...</td>\n",
       "    </tr>\n",
       "    <tr>\n",
       "      <th>1244</th>\n",
       "      <td>15 juli 2019</td>\n",
       "      <td>https://www.dekamer.be/doc/CCRI/html/55/ic001x...</td>\n",
       "      <td>Commissie voor Energie, Leefmilieu en Klimaat</td>\n",
       "    </tr>\n",
       "  </tbody>\n",
       "</table>\n",
       "</div>"
      ],
      "text/plain": [
       "                 Datum  ...                                          Commissie\n",
       "1240  30 augustus 2019  ...           Commissie voor Buitenlandse Betrekkingen\n",
       "1241      18 juli 2019  ...                    Commissie voor Landsverdediging\n",
       "1242      17 juli 2019  ...                            Commissie voor Justitie\n",
       "1243      16 juli 2019  ...  Commissie voor Binnenlandse Zaken, Veiligheid,...\n",
       "1244      15 juli 2019  ...      Commissie voor Energie, Leefmilieu en Klimaat\n",
       "\n",
       "[5 rows x 3 columns]"
      ]
     },
     "execution_count": 18,
     "metadata": {},
     "output_type": "execute_result"
    },
    {
     "data": {
      "text/plain": [
       "Commissie\n",
       "Commissie voor Binnenlandse Zaken, Veiligheid, Migratie en Bestuurszaken                                                                                                                                           186\n",
       "Commissie voor Gezondheid en Gelijke kansen                                                                                                                                                                        171\n",
       "Commissie voor Sociale Zaken, Werk en Pensioenen                                                                                                                                                                   130\n",
       "Commissie voor Justitie                                                                                                                                                                                            129\n",
       "Commissie voor Mobiliteit, Overheidsbedrijven en Federale Instellingen                                                                                                                                             121\n",
       "Commissie voor Economie, Consumentenbescherming en Digitale agenda                                                                                                                                                 120\n",
       "Commissie voor Energie, Leefmilieu en Klimaat                                                                                                                                                                      109\n",
       "Commissie voor Buitenlandse Betrekkingen                                                                                                                                                                            85\n",
       "Commissie voor Financiën en Begroting                                                                                                                                                                               71\n",
       "Commissie voor Landsverdediging                                                                                                                                                                                     58\n",
       "Commissie voor Grondwet en Institutionele vernieuwing                                                                                                                                                               15\n",
       "Commissie belast met de controle op de uitvoering van de wetten van 27 maart 2020 die machtiging verlenen aan de Koning om maatregelen te nemen in de strijd tegen de verspreiding van het coronavirus COVID-19     14\n",
       "Gemeenschappelijke vergadering van de commissie voor Justitie en de commissie voor Binnenlandse Zaken, Veiligheid, Migratie en Bestuurszaken                                                                        11\n",
       "Interparlementaire Klimaatdialoog                                                                                                                                                                                   11\n",
       "Gemeenschappelijke vergadering van de commissie voor Buitenlandse Betrekkingen en de commissie voor Landsverdediging                                                                                                 3\n",
       "Gemeenschappelijke vergadering van de commissie voor Binnenlandse Zaken, Veiligheid, Migratie en Bestuurszaken en van de commissie voor Gezondheid en Gelijke Kansen                                                 2\n",
       "Gemeenschappelijke vergadering van de commissie voor Buitenlandse Betrekkingen, de commissie voor Landsverdediging en de commissie voor Binnenlandse Zaken, Veiligheid, Migratie en Bestuurszaken                    2\n",
       "Gemeenschappelijke vergadering van de commissie voor Buitenlandse Betrekkingen en de commissie voor Grondwet en Institutionele Vernieuwing                                                                           1\n",
       "Gemeenschappelijke vergadering van de commissie voor Justitie en de commissie voor Gezondheid en Gelijke kansen                                                                                                      1\n",
       "Gemeenschappelijke vergadering van de commissie voor Binnenlandse Zaken, Veiligheid, Migratie en Bestuurszaken en de commissie voor Landsverdediging                                                                 1\n",
       "Gemeenschappelijke vergadering van de commissie voor Justitie en de commissie voor Sociale Zaken, Werk en Pensioenen                                                                                                 1\n",
       "Gemeenschappelijke vergadering van het federaal adviescomité voor Europese Aangelegenheden en van de commissie voor Buitenlandse Betrekkingen                                                                        1\n",
       "Gemeenschappelijke vergadering van de commissie voor Binnenlandse Zaken, Veiligheid, Migratie en Bestuurszaken en van de commissie voor Justitie                                                                     1\n",
       "Gemeenschappelijke vergadering van de commissie voor Sociale Zaken, Werk en Pensioenen en van de commissie voor Economie, Consumentenbescherming en Digitale agenda                                                  1\n",
       "Name: count, dtype: int64"
      ]
     },
     "execution_count": 18,
     "metadata": {},
     "output_type": "execute_result"
    },
    {
     "data": {
      "text/plain": [
       "'1 december 2020'"
      ]
     },
     "execution_count": 18,
     "metadata": {},
     "output_type": "execute_result"
    },
    {
     "data": {
      "text/plain": [
       "'9 oktober 2019'"
      ]
     },
     "execution_count": 18,
     "metadata": {},
     "output_type": "execute_result"
    },
    {
     "data": {
      "text/plain": [
       "Datum        object\n",
       "Url          object\n",
       "Commissie    object\n",
       "dtype: object"
      ]
     },
     "execution_count": 18,
     "metadata": {},
     "output_type": "execute_result"
    }
   ],
   "source": [
    "# Inspect results\n",
    "meeting_information_df.head()\n",
    "meeting_information_df.tail()\n",
    "\n",
    "meeting_information_df[\"Commissie\"].value_counts()\n",
    "\n",
    "# Inspect date\n",
    "meeting_information_df[\"Datum\"].min()\n",
    "meeting_information_df[\"Datum\"].max()\n",
    "meeting_information_df.dtypes\n"
   ]
  },
  {
   "cell_type": "code",
   "execution_count": 19,
   "id": "dc690279-63b8-4f02-aeea-dad9f722ab40",
   "metadata": {},
   "outputs": [],
   "source": [
    "# The dates are just in string format, so we explicitly cast them to datetime, taking into account they are provided in Dutch\n",
    "\n",
    "# Define a dictionary to map Dutch month names to English\n",
    "# using pd.to_datetime directly yields errors\n",
    "dutch_to_english_month = {\n",
    "    'januari': 'January',\n",
    "    'februari': 'February',\n",
    "    'maart': 'March',\n",
    "    'april': 'April',\n",
    "    'mei': 'May',\n",
    "    'juni': 'June',\n",
    "    'juli': 'July',\n",
    "    'augustus': 'August',\n",
    "    'september': 'September',\n",
    "    'oktober': 'October',\n",
    "    'november': 'November',\n",
    "    'december': 'December'\n",
    "}\n",
    "\n",
    "# Replace Dutch month names with English\n",
    "meeting_information_df['Datum'] = meeting_information_df['Datum'].replace(dutch_to_english_month, regex=True)\n",
    "\n",
    "# Convert the 'Datum' column to datetime\n",
    "meeting_information_df['Datum'] = pd.to_datetime(meeting_information_df['Datum'], format='%d %B %Y')\n",
    "\n",
    "# Maintain only date elements, drop time elements\n",
    "meeting_information_df['Datum'] = meeting_information_df['Datum'].dt.date"
   ]
  },
  {
   "cell_type": "code",
   "execution_count": 20,
   "id": "730eec55-bdd9-4331-b163-e2d79053c550",
   "metadata": {},
   "outputs": [
    {
     "data": {
      "text/html": [
       "<div>\n",
       "<style scoped>\n",
       "    .dataframe tbody tr th:only-of-type {\n",
       "        vertical-align: middle;\n",
       "    }\n",
       "\n",
       "    .dataframe tbody tr th {\n",
       "        vertical-align: top;\n",
       "    }\n",
       "\n",
       "    .dataframe thead th {\n",
       "        text-align: right;\n",
       "    }\n",
       "</style>\n",
       "<table border=\"1\" class=\"dataframe\">\n",
       "  <thead>\n",
       "    <tr style=\"text-align: right;\">\n",
       "      <th></th>\n",
       "      <th>Datum</th>\n",
       "      <th>Url</th>\n",
       "      <th>Commissie</th>\n",
       "    </tr>\n",
       "  </thead>\n",
       "  <tbody>\n",
       "    <tr>\n",
       "      <th>0</th>\n",
       "      <td>2024-02-21</td>\n",
       "      <td>https://www.dekamer.be/doc/CCRI/html/55/ic1276...</td>\n",
       "      <td>Commissie voor Sociale Zaken, Werk en Pensioenen</td>\n",
       "    </tr>\n",
       "    <tr>\n",
       "      <th>1</th>\n",
       "      <td>2024-02-21</td>\n",
       "      <td>https://www.dekamer.be/doc/CCRI/html/55/ic1275...</td>\n",
       "      <td>Commissie voor Buitenlandse Betrekkingen</td>\n",
       "    </tr>\n",
       "    <tr>\n",
       "      <th>2</th>\n",
       "      <td>2024-02-20</td>\n",
       "      <td>https://www.dekamer.be/doc/CCRI/html/55/ic1274...</td>\n",
       "      <td>Commissie voor Binnenlandse Zaken, Veiligheid,...</td>\n",
       "    </tr>\n",
       "    <tr>\n",
       "      <th>3</th>\n",
       "      <td>2024-02-20</td>\n",
       "      <td>https://www.dekamer.be/doc/CCRI/html/55/ic1273...</td>\n",
       "      <td>Commissie voor Energie, Leefmilieu en Klimaat</td>\n",
       "    </tr>\n",
       "    <tr>\n",
       "      <th>4</th>\n",
       "      <td>2024-02-20</td>\n",
       "      <td>https://www.dekamer.be/doc/CCRI/html/55/ic1272...</td>\n",
       "      <td>Commissie voor Buitenlandse Betrekkingen</td>\n",
       "    </tr>\n",
       "  </tbody>\n",
       "</table>\n",
       "</div>"
      ],
      "text/plain": [
       "        Datum  ...                                          Commissie\n",
       "0  2024-02-21  ...   Commissie voor Sociale Zaken, Werk en Pensioenen\n",
       "1  2024-02-21  ...           Commissie voor Buitenlandse Betrekkingen\n",
       "2  2024-02-20  ...  Commissie voor Binnenlandse Zaken, Veiligheid,...\n",
       "3  2024-02-20  ...      Commissie voor Energie, Leefmilieu en Klimaat\n",
       "4  2024-02-20  ...           Commissie voor Buitenlandse Betrekkingen\n",
       "\n",
       "[5 rows x 3 columns]"
      ]
     },
     "execution_count": 20,
     "metadata": {},
     "output_type": "execute_result"
    },
    {
     "data": {
      "text/html": [
       "<div>\n",
       "<style scoped>\n",
       "    .dataframe tbody tr th:only-of-type {\n",
       "        vertical-align: middle;\n",
       "    }\n",
       "\n",
       "    .dataframe tbody tr th {\n",
       "        vertical-align: top;\n",
       "    }\n",
       "\n",
       "    .dataframe thead th {\n",
       "        text-align: right;\n",
       "    }\n",
       "</style>\n",
       "<table border=\"1\" class=\"dataframe\">\n",
       "  <thead>\n",
       "    <tr style=\"text-align: right;\">\n",
       "      <th></th>\n",
       "      <th>Datum</th>\n",
       "      <th>Url</th>\n",
       "      <th>Commissie</th>\n",
       "    </tr>\n",
       "  </thead>\n",
       "  <tbody>\n",
       "    <tr>\n",
       "      <th>1240</th>\n",
       "      <td>2019-08-30</td>\n",
       "      <td>https://www.dekamer.be/doc/CCRI/html/55/ic005x...</td>\n",
       "      <td>Commissie voor Buitenlandse Betrekkingen</td>\n",
       "    </tr>\n",
       "    <tr>\n",
       "      <th>1241</th>\n",
       "      <td>2019-07-18</td>\n",
       "      <td>https://www.dekamer.be/doc/CCRI/html/55/ic004x...</td>\n",
       "      <td>Commissie voor Landsverdediging</td>\n",
       "    </tr>\n",
       "    <tr>\n",
       "      <th>1242</th>\n",
       "      <td>2019-07-17</td>\n",
       "      <td>https://www.dekamer.be/doc/CCRI/html/55/ic003x...</td>\n",
       "      <td>Commissie voor Justitie</td>\n",
       "    </tr>\n",
       "    <tr>\n",
       "      <th>1243</th>\n",
       "      <td>2019-07-16</td>\n",
       "      <td>https://www.dekamer.be/doc/CCRI/html/55/ic002x...</td>\n",
       "      <td>Commissie voor Binnenlandse Zaken, Veiligheid,...</td>\n",
       "    </tr>\n",
       "    <tr>\n",
       "      <th>1244</th>\n",
       "      <td>2019-07-15</td>\n",
       "      <td>https://www.dekamer.be/doc/CCRI/html/55/ic001x...</td>\n",
       "      <td>Commissie voor Energie, Leefmilieu en Klimaat</td>\n",
       "    </tr>\n",
       "  </tbody>\n",
       "</table>\n",
       "</div>"
      ],
      "text/plain": [
       "           Datum  ...                                          Commissie\n",
       "1240  2019-08-30  ...           Commissie voor Buitenlandse Betrekkingen\n",
       "1241  2019-07-18  ...                    Commissie voor Landsverdediging\n",
       "1242  2019-07-17  ...                            Commissie voor Justitie\n",
       "1243  2019-07-16  ...  Commissie voor Binnenlandse Zaken, Veiligheid,...\n",
       "1244  2019-07-15  ...      Commissie voor Energie, Leefmilieu en Klimaat\n",
       "\n",
       "[5 rows x 3 columns]"
      ]
     },
     "execution_count": 20,
     "metadata": {},
     "output_type": "execute_result"
    },
    {
     "data": {
      "text/plain": [
       "datetime.date(2019, 7, 15)"
      ]
     },
     "execution_count": 20,
     "metadata": {},
     "output_type": "execute_result"
    },
    {
     "data": {
      "text/plain": [
       "datetime.date(2024, 2, 21)"
      ]
     },
     "execution_count": 20,
     "metadata": {},
     "output_type": "execute_result"
    },
    {
     "data": {
      "text/plain": [
       "Datum        object\n",
       "Url          object\n",
       "Commissie    object\n",
       "dtype: object"
      ]
     },
     "execution_count": 20,
     "metadata": {},
     "output_type": "execute_result"
    }
   ],
   "source": [
    "# Inspect date\n",
    "meeting_information_df.head()\n",
    "meeting_information_df.tail()\n",
    "\n",
    "meeting_information_df[\"Datum\"].min()\n",
    "meeting_information_df[\"Datum\"].max()\n",
    "meeting_information_df.dtypes"
   ]
  },
  {
   "cell_type": "code",
   "execution_count": 21,
   "id": "ce1b9d82-c2cc-4f8c-a18b-7cae600e96de",
   "metadata": {},
   "outputs": [],
   "source": [
    "# # +++++++++++++++++++++++++++++++++++++++++++++++++++++++++++++++++\n",
    "# # limit amount of pages for testing\n",
    "# meeting_information_df = meeting_information_df[:3]\n",
    "# meeting_information_df\n",
    "# # +++++++++++++++++++++++++++++++++++++++++++++++++++++++++++++++++"
   ]
  },
  {
   "cell_type": "markdown",
   "id": "5b25b264-127d-4e4d-9f9b-abd579a87f8a",
   "metadata": {},
   "source": [
    "# Check if this matches with indicators on website"
   ]
  },
  {
   "cell_type": "code",
   "execution_count": 22,
   "id": "58ffdf6d-6866-45e1-be34-d687cbf8c1a0",
   "metadata": {},
   "outputs": [],
   "source": [
    "# ids = []\n",
    "# # Iterate over each URL and extract the digits, using regex\n",
    "# for url in urls_all_meetings:\n",
    "#     match = re.search(r'ic(\\d+)x', url)\n",
    "#     if match:\n",
    "#         ids.append(match.group(1))\n",
    "\n",
    "# # Turn strings to digits\n",
    "# ids = [int(x) for x in ids]\n",
    "\n",
    "# # Sort ids from low to high\n",
    "# ids = sorted(ids)\n",
    "\n",
    "# # Assess results\n",
    "# ids[:10]\n",
    "# ids[-10:]"
   ]
  },
  {
   "cell_type": "code",
   "execution_count": 23,
   "id": "d6aa5fb0-e7f0-4413-9d4b-98083b765571",
   "metadata": {},
   "outputs": [],
   "source": [
    "# ids_ints = [int(x) for x in ids]\n",
    "# ids_ints[:10]"
   ]
  },
  {
   "cell_type": "code",
   "execution_count": 24,
   "id": "3d2537fa-f547-4348-8c46-193909470665",
   "metadata": {},
   "outputs": [],
   "source": [
    "# urls_all_meetings[0][-10:-6]"
   ]
  },
  {
   "cell_type": "code",
   "execution_count": 25,
   "id": "6936ab44-9c3f-41bf-b38b-c164b11fe6d4",
   "metadata": {},
   "outputs": [],
   "source": [
    "# def check_consecutive_digits(lst):\n",
    "#     for i in range(len(lst) - 1):\n",
    "#         if lst[i] - 1 != lst[i+1]:\n",
    "#             print(\"Irregularity starts at digit:\", lst[i+1])\n",
    "#             return False\n",
    "#     return True\n",
    "\n",
    "# # Example usage\n",
    "# check_consecutive_digits(ids)\n",
    "\n"
   ]
  },
  {
   "cell_type": "markdown",
   "id": "455cf1ba-7f3a-4310-a4de-5b6d8da6229b",
   "metadata": {},
   "source": [
    "# Extracting names of members posing questions"
   ]
  },
  {
   "cell_type": "markdown",
   "id": "483d617b-f6ae-487b-ad09-ae4cc22ca5ec",
   "metadata": {},
   "source": [
    "First we create some helper functions to extract the relevant sections out of the reports. \n",
    "* All relevant sections containing the name of the author, the relevant minister the question is aimed at and the subject of the question are formatted as headers, i.e. `h2`. Since all repots are bilingual, those headings are always duplicated in the other language (i.e. Dutch and French). Since both entries only represent a single question, we filter on a single language, i.c. Dutch. For this we define `extract_h2_sections_from_url()`.\n",
    "* We also create a function to clean those strings, `clean_h2_sections()`.\n",
    "* Finally, we create a function to obtain the relevant interesting information fromt those sections using regex, i.e. the name of the author, the relevant minister the question is aimed at and the subject of the question: `extract_names_from_h2_sections()`."
   ]
  },
  {
   "cell_type": "code",
   "execution_count": 26,
   "id": "f0d250dc-e663-43fd-b817-cbdc86095f44",
   "metadata": {},
   "outputs": [],
   "source": [
    "def extract_h2_sections_from_url(url):\n",
    "    # Fetch webpage content\n",
    "    response = requests.get(url)\n",
    "    \n",
    "    # Check if request was successful\n",
    "    if response.status_code != 200:\n",
    "        print(\"Failed to fetch the webpage.\")\n",
    "        return []\n",
    "    \n",
    "    # Parse HTML content\n",
    "    soup = BeautifulSoup(response.content, 'html.parser')\n",
    "    \n",
    "    # # Find all h2 tags\n",
    "    # h2_sections = soup.find_all('h2')\n",
    "\n",
    "    # # Extract text from all h2 tags\n",
    "    # h2_sections = [h2.text for h2 in soup.find_all('h2')]\n",
    "\n",
    "        # Find all h2 tags\n",
    "    h2_tags = soup.find_all('h2')\n",
    "\n",
    "    # Extract text from h2 tags with span lang=NL\n",
    "    # The French language h2's are content-wise duplicates\n",
    "    nl_h2_texts = [tag.get_text(strip=True) for tag in h2_tags if tag.find('span', lang='NL')]\n",
    "\n",
    "    \n",
    "    return nl_h2_texts"
   ]
  },
  {
   "cell_type": "code",
   "execution_count": 27,
   "id": "66819b5d-d43d-43e9-a7f5-77dd43769597",
   "metadata": {},
   "outputs": [],
   "source": [
    "def clean_h2_sections(h2_sections):  \n",
    "    # Clean the strings by replacing carriage returns and newlines with spaces\n",
    "    h2_sections_cleaned = [string.replace('\\r\\n', ' ') for string in h2_sections]\n",
    "\n",
    "    # Remove the trailing dashes at the beginning of each string\n",
    "    h2_sections_cleaned = [string.lstrip('- ') for string in h2_sections_cleaned]\n",
    "\n",
    "\n",
    "    # # Replace the escaped single quote with just a single quote\n",
    "    # h2_sections_cleaned = [string.replace(\"\\'\", \"'\") for string in h2_sections_cleaned]\n",
    "    \n",
    "    # Remove strings starting with one or more digits followed by 'Samengevoegd'\n",
    "    h2_sections_cleaned = [string for string in h2_sections_cleaned if not re.match(r'^\\d+\\s*Samengevoegde', string)]\n",
    "\n",
    "    # Remove the left trailing text with '[digits]Vraag van' from each input string\n",
    "    h2_sections_cleaned = [re.sub(r'^\\d{2}Vraag van ', '', string) for string in h2_sections_cleaned]\n",
    "    \n",
    "    return h2_sections_cleaned"
   ]
  },
  {
   "cell_type": "code",
   "execution_count": 28,
   "id": "8bd315b7-be2b-42bb-af7f-308e77e53f8a",
   "metadata": {},
   "outputs": [],
   "source": [
    "def extract_names_from_h2_sections(h2_sections):\n",
    "    relevant_information = []\n",
    "    \n",
    "    for h2_section in h2_sections:\n",
    "        # Split text with 'aan' and 'over' as seperators\n",
    "        match = re.match(r'(\\w+ \\w+) aan (\\w+ \\w+) \\(.*\\) over \"(.*)\"', h2_section)\n",
    "        if match:\n",
    "            # append list of 'author', 'minister' and 'subject' to overall list\n",
    "            relevant_information.append([match.group(1), match.group(2), match.group(3)])\n",
    "\n",
    "    return relevant_information"
   ]
  },
  {
   "cell_type": "markdown",
   "id": "ea3c7e5c-5f85-4d3b-9b19-6c6eae7e8db2",
   "metadata": {},
   "source": [
    "The we iterate over each of the meetings (for which we obtained the urls earlier) and obtain the relevant information."
   ]
  },
  {
   "cell_type": "code",
   "execution_count": 29,
   "id": "118d70c5-7d23-4889-975d-5555d50e1d72",
   "metadata": {},
   "outputs": [],
   "source": [
    "# relevant_information_oral_all = []\n",
    "\n",
    "# # Iterate over each meeting\n",
    "# for url_meeting in meeting_information_df[\"Url\"]:\n",
    "#     # Extract h2 sections from the webpage of the specific meeting\n",
    "#     h2_sections = extract_h2_sections_from_url(url_meeting)\n",
    "\n",
    "#     # Clean relevant sections\n",
    "#     h2_sections = clean_h2_sections(h2_sections)\n",
    "\n",
    "#     # Obtain list of author, relevant minister and subject of question\n",
    "#     relevant_information_oral = extract_names_from_h2_sections(h2_sections)\n",
    "\n",
    "#     # Add relevant information to overall list\n",
    "#     relevant_information_oral_all.extend(relevant_information_oral)    "
   ]
  },
  {
   "cell_type": "code",
   "execution_count": null,
   "id": "1ae9f16f-446f-4242-b3da-346b2dfc82a6",
   "metadata": {},
   "outputs": [
    {
     "name": "stdout",
     "output_type": "stream",
     "text": [
      "Page 1 of 1245 processed.\n"
     ]
    }
   ],
   "source": [
    "relevant_information_oral_all = []\n",
    "\n",
    "# Iterate over each meeting\n",
    "for index, row in meeting_information_df.iterrows():\n",
    "    # Extract h2 sections from the webpage of the specific meeting\n",
    "    url_meeting = row['Url']\n",
    "    h2_sections = extract_h2_sections_from_url(url_meeting)\n",
    "\n",
    "    # Clean relevant sections\n",
    "    h2_sections = clean_h2_sections(h2_sections)\n",
    "\n",
    "    # Obtain list of author, relevant minister and subject of question\n",
    "    relevant_information_oral = extract_names_from_h2_sections(h2_sections)\n",
    "\n",
    "    # Modify relevant_information_oral sublist to include values from 'datum' and 'commissie' columns\n",
    "    for sublist in relevant_information_oral:\n",
    "        sublist.extend([row['Datum'], row['Commissie']])\n",
    "\n",
    "    # Add relevant information to overall list\n",
    "    relevant_information_oral_all.extend(relevant_information_oral)\n",
    "\n",
    "    print(f\"Page {index + 1} of {len(meeting_information_df)} processed.\")\n",
    "\n",
    "print(\"All pages processed.\")"
   ]
  },
  {
   "cell_type": "code",
   "execution_count": null,
   "id": "dfaad308-8825-44cd-a9ec-f737278aef16",
   "metadata": {},
   "outputs": [],
   "source": [
    "# Inspect results\n",
    "len(relevant_information_oral_all)\n",
    "relevant_information_oral_all[:10]\n",
    "relevant_information_oral_all[-10:]"
   ]
  },
  {
   "cell_type": "code",
   "execution_count": null,
   "id": "eaebda1b-da7f-4e75-93ec-c10d085f810f",
   "metadata": {},
   "outputs": [],
   "source": [
    "# Turn list into dataframe\n",
    "oral_questions_df = pd.DataFrame(relevant_information_oral_all,\n",
    "                                 columns = [\"Parlementslid\", \"Minister\", \"Onderwerp\",\n",
    "                                            \"Datum\", \"Commissie\", \"Url publicatie\"])"
   ]
  },
  {
   "cell_type": "code",
   "execution_count": null,
   "id": "c31e037f-8c92-42f2-bb60-264ae162099b",
   "metadata": {
    "scrolled": true
   },
   "outputs": [],
   "source": [
    "# Inspect results\n",
    "oral_questions_df"
   ]
  },
  {
   "cell_type": "markdown",
   "id": "2cb8511c-66d2-4e82-aa65-72d7ca3a1541",
   "metadata": {},
   "source": [
    "Then we map the parties of the members to this dataframe, using the earlier created dict. "
   ]
  },
  {
   "cell_type": "code",
   "execution_count": null,
   "id": "83be1f6d-2cd8-427d-a4e2-22774b27380c",
   "metadata": {},
   "outputs": [],
   "source": [
    "with open('../data/members_dict.pkl', 'rb') as file:\n",
    "    members_dict = pickle.load(file)\n",
    "\n",
    "# members_dict"
   ]
  },
  {
   "cell_type": "code",
   "execution_count": null,
   "id": "4dd317ac-6747-4546-8719-40023a04e758",
   "metadata": {},
   "outputs": [],
   "source": [
    "# Invert the dictionary while handling lists\n",
    "member_to_party = {}\n",
    "for party, members_list in members_dict.items():\n",
    "    for member in members_list:\n",
    "        member_to_party[member] = party\n",
    "\n",
    "# member_to_party"
   ]
  },
  {
   "cell_type": "code",
   "execution_count": null,
   "id": "5f396eb1-ec43-4f29-ac4c-bcacf2f9cbb8",
   "metadata": {},
   "outputs": [],
   "source": [
    "# Map vraagsteller to partij and create a new column 'partij'\n",
    "oral_questions_df['Partij parlementslid'] = oral_questions_df['Parlementslid'].map(member_to_party)\n",
    "\n",
    "# Inspect results\n",
    "oral_questions_df.head()"
   ]
  },
  {
   "cell_type": "markdown",
   "id": "81daa827-da58-4905-a9ae-7182c58f194b",
   "metadata": {},
   "source": [
    "We do the same for the party of the ministers."
   ]
  },
  {
   "cell_type": "code",
   "execution_count": null,
   "id": "49a2c837-5a60-4585-86da-ef7df0f73fac",
   "metadata": {},
   "outputs": [],
   "source": [
    "with open('../data/minister_2_party.pkl', 'rb') as file:\n",
    "    minister_2_party = pickle.load(file)\n",
    "\n",
    "# minister_2_party"
   ]
  },
  {
   "cell_type": "code",
   "execution_count": null,
   "id": "7575a2e2-9f04-41ba-8609-c71ac85d4f5e",
   "metadata": {},
   "outputs": [],
   "source": [
    "# Map vraagsteller to partij and create a new column 'partij'\n",
    "oral_questions_df['Partij minister'] = oral_questions_df['Minister'].map(minister_2_party)\n",
    "\n",
    "# Inspect results\n",
    "oral_questions_df.head()\n",
    "oral_questions_df.tail()"
   ]
  },
  {
   "cell_type": "markdown",
   "id": "0709e2f2-fdea-4c7b-a002-8a08be42d9c4",
   "metadata": {},
   "source": [
    "## Combine column of subject and url to get clickable markdown link"
   ]
  },
  {
   "cell_type": "code",
   "execution_count": null,
   "id": "b24bef24-e9f0-464a-a271-6569a0c3d9fe",
   "metadata": {},
   "outputs": [],
   "source": [
    "# Function to create markdown-style links\n",
    "def create_markdown_link(row):\n",
    "    return f\"[{row['Onderwerp']}]({row['Url publicatie']})\""
   ]
  },
  {
   "cell_type": "code",
   "execution_count": null,
   "id": "2f2c8d03-9b04-4362-98d3-dffbca9240c5",
   "metadata": {},
   "outputs": [],
   "source": [
    "# Apply the function to create a new column 'Onderwerp (url)'\n",
    "oral_questions_df[\"Onderwerp (url)\"]= oral_questions_df.apply(create_markdown_link, axis=1)\n",
    "\n",
    "# # Drop original columns\n",
    "# questions_df = questions_df.drop(['Onderwerp'], axis=1)\n",
    "# questions_df = questions_df.drop(['Url publicatie'], axis=1)"
   ]
  },
  {
   "cell_type": "code",
   "execution_count": null,
   "id": "ba6c4840-f840-472f-9b30-dc2174b3da15",
   "metadata": {},
   "outputs": [],
   "source": [
    "# Inspect results (include check to ensure that names assigned for all posts / competences)\n",
    "oral_questions_df.head()\n",
    "oral_questions_df.columns"
   ]
  },
  {
   "cell_type": "markdown",
   "id": "8b1881f3-b3b8-4ee1-b829-8fa38a9f10eb",
   "metadata": {},
   "source": [
    "# Save output"
   ]
  },
  {
   "cell_type": "code",
   "execution_count": null,
   "id": "427120dc-d2cb-468a-b9c5-df6c17a3609d",
   "metadata": {},
   "outputs": [],
   "source": [
    "## Save details_questions_term_df for later use\n",
    "# 1. Save as pkl\n",
    "with open('../data/oral_questions_df.pkl', 'wb') as file:\n",
    "    pickle.dump(oral_questions_df, file)\n",
    "\n",
    "# 2. Save as csv\n",
    "oral_questions_df.to_csv(path_or_buf = '../data/oral_questions_df.csv',\n",
    "                               sep = \";\",\n",
    "                               encoding = \"utf-16\", # to ensure trema's are well handled (e.g. Koen Daniëls)\n",
    "                               index = False)"
   ]
  },
  {
   "cell_type": "markdown",
   "id": "8594a003-f945-4c1a-b837-6b506342b3dd",
   "metadata": {},
   "source": [
    "# Dump"
   ]
  },
  {
   "cell_type": "code",
   "execution_count": null,
   "id": "0471a81c-5290-42ce-bb59-48d44967d8f8",
   "metadata": {},
   "outputs": [],
   "source": [
    "# def scrape_list_reports(url):\n",
    "#     response = requests.get(url)\n",
    "    \n",
    "#     if response.status_code == 200:\n",
    "#         soup = BeautifulSoup(response.text, 'html.parser')\n",
    "\n",
    "\n",
    "        \n",
    "#         # Define regular expressions for matching Dutch month names and commission names\n",
    "#         dutch_months_regex = r'(januari|februari|maart|april|mei|juni|juli|augustus|september|oktober|november|december)'\n",
    "#         commission_names_regex = r'(Commissie|Gemeenschappelijke vergadering|Interparlementaire klimaatdialoog)'\n",
    "        \n",
    "#         # Find all table rows\n",
    "#         rows = soup.find_all('tr')\n",
    "\n",
    "#         relevant_information = []\n",
    "        \n",
    "#         # Iterate over each row to extract relevant information\n",
    "#         for row in rows:\n",
    "#             # Find the <a> tag with the title 'Kopieervriendelijke HTML versie'\n",
    "#             link = row.find('a', title='Kopieervriendelijke HTML versie')\n",
    "#             if link:\n",
    "#                 # Extract URL\n",
    "#                 url = link['href']\n",
    "                \n",
    "#                 # Extract date using regex\n",
    "#                 date_match = re.search(dutch_months_regex, row.text)\n",
    "#                 date = date_match.group() if date_match else None\n",
    "                \n",
    "#                 # Extract commission name using regex\n",
    "#                 commission_match = re.search(commission_names_regex, row.text)\n",
    "#                 commission_name = commission_match.group() if commission_match else None\n",
    "\n",
    "#                 relevant_information.append([url, date, commission_name])\n",
    "\n",
    "#     else:\n",
    "#         print(f\"Failed to retrieve the page. Status code: {response.status_code}\")"
   ]
  },
  {
   "cell_type": "code",
   "execution_count": null,
   "id": "e52c2456-62f9-483e-adf8-6f8e928b6c32",
   "metadata": {},
   "outputs": [],
   "source": []
  },
  {
   "cell_type": "code",
   "execution_count": null,
   "id": "2fcfe211-047a-41af-b7af-c5d14734a12b",
   "metadata": {},
   "outputs": [],
   "source": []
  },
  {
   "cell_type": "code",
   "execution_count": null,
   "id": "0faa9356-8474-4100-9389-d60e5fa19ee0",
   "metadata": {},
   "outputs": [],
   "source": [
    "# # Extract h2 sections from the webpage\n",
    "# h2_sections = extract_h2_sections_from_url(url_meeting)\n",
    "\n",
    "# # Inspect results\n",
    "# h2_sections[:10]"
   ]
  },
  {
   "cell_type": "code",
   "execution_count": null,
   "id": "800fda51-bef8-466e-8ae1-5d83cbb3c12c",
   "metadata": {},
   "outputs": [],
   "source": []
  },
  {
   "cell_type": "code",
   "execution_count": null,
   "id": "3f2bf924-dbfc-454d-b2fc-72a0697798de",
   "metadata": {},
   "outputs": [],
   "source": []
  },
  {
   "cell_type": "code",
   "execution_count": null,
   "id": "05818d85-bca8-4205-9988-a96b85d4372e",
   "metadata": {},
   "outputs": [],
   "source": [
    "# # Actually clean sections\n",
    "# h2_sections = clean_h2_sections(h2_sections)\n",
    "\n",
    "# # Inspect results\n",
    "# h2_sections[:20]"
   ]
  },
  {
   "cell_type": "code",
   "execution_count": null,
   "id": "f297dd69-1f72-40c9-a004-f8e014ae4719",
   "metadata": {},
   "outputs": [],
   "source": [
    "# # Extract names from h2 sections\n",
    "# relevant_information_oral = extract_names_from_h2_sections(h2_sections)\n",
    "# relevant_information_oral"
   ]
  },
  {
   "cell_type": "code",
   "execution_count": null,
   "id": "998cb860-fde7-4f82-b0dd-26ae06e22c99",
   "metadata": {},
   "outputs": [],
   "source": [
    "# def extract_names_from_h2_sections(h2_sections):\n",
    "#     # Regex pattern to extract the relevant names\n",
    "#     # pattern = r'Question de ([^\\s]+) à ([^\\s]+) \\(.*\\)\\s'\n",
    "#     pattern = r'([^\\s]+) à ([^\\s]+) \\(.*\\)\\s'\n",
    "#     # pattern = r'Vraag van ([^\\s]+) aan ([^\\s]+) \\(.*\\)\\s'\n",
    "    \n",
    "#     # Extract names from each h2 section\n",
    "#     names = []\n",
    "#     for h2_section in h2_sections:\n",
    "#         match = re.search(pattern, str(h2_section))\n",
    "#         if match:\n",
    "#             names.append([match.group(1), match.group(2)])\n",
    "    \n",
    "#     return names"
   ]
  },
  {
   "cell_type": "code",
   "execution_count": null,
   "id": "f8ad66ce-65f6-4e5a-8e2b-89ae49154116",
   "metadata": {},
   "outputs": [],
   "source": [
    "# # Extract h2 sections from the webpage\n",
    "# h2_sections = extract_h2_sections_from_url(url_meeting)\n",
    "# h2_sections\n",
    "\n",
    "# # Extract names from h2 sections\n",
    "# names = extract_names_from_h2_sections(h2_sections)\n",
    "# names\n",
    "\n",
    "# # Format the names as required\n",
    "# formatted_names = [f'[\"{name[0]}\", \"{name[1]}\"]' for name in names]\n",
    "# formatted_names"
   ]
  },
  {
   "cell_type": "code",
   "execution_count": null,
   "id": "3bd49f25-89ae-475f-8d36-f2b55ef086eb",
   "metadata": {
    "scrolled": true
   },
   "outputs": [],
   "source": [
    "# h2_sections"
   ]
  },
  {
   "cell_type": "code",
   "execution_count": null,
   "id": "2945316d-eeae-47a8-bc96-6dc949767f35",
   "metadata": {},
   "outputs": [],
   "source": [
    "# def extract_info_oral_questions(h2_sections):\n",
    "#     '''\n",
    "#     Input: \n",
    "#     '- Sander Loones à Thomas Dermine (Relance, Investissements stratégiques\\r\\net Politique scientifique) sur \"Le plan de relance et les demandes de\\r\\npaiement européennes\" (55040913C)'\n",
    "#     '- Sander Loones à Thomas Dermine (Relance, Investissements stratégiques\\r\\net Politique scientifique) sur \"La demande de paiement des subventions\\r\\nRRF\" (55040690C)'\n",
    "#     '- Nabil Boukili aan Pierre-Yves Dermagne (VEM Economie en\\r\\nWerk) over \"De doorvoer van militair materiaal met bestemming Israël\"\\r\\n(55040716C)'\n",
    "#     '04 Samengevoegde\\r\\nvragen van'\n",
    "#     '- Roberto D\\'Amico aan Pierre-Yves Dermagne (VEM Economie en\\r\\nWerk) over \"Het rapport betreffende de vergelijking van de\\r\\nconsumptieprijzen\" (55040505C)'\n",
    "#     '- Sander Loones aan Thomas Dermine (Relance, Strategische\\r\\nInvesteringen en Wetenschapsbeleid) over \"Het oordeel van de Europese\\r\\nCommissie inzake de relancegelden\" (55040910C)'\n",
    "#     '02 Vraag van Sander\\r\\nLoones aan Pierre-Yves Dermagne (VEM Economie en Werk) over \"De\\r\\nbekendmaking van en de consensus over voorbereidende wetgevende teksten\"\\r\\n(55040340C)',\n",
    "\n",
    "    \n",
    "#     Output: \n",
    "#     [\"Sander Loones\", \"Thomas Dermine\", \"\"Le plan de relance et les demandes de\\r\\npaiement européennes\"\"]\n",
    "#     ['Sander Loones', 'Thomas Dermine', '\"La demande de paiement des subventions\\r\\nRRF\"' ]\n",
    "#     ['Nabil Boukili', 'Pierre-Yves Dermagne', '\"De doorvoer van militair materiaal met bestemming Israël\"\\r\\n']-\n",
    "#     ['Roberto D\\'Amico', 'Pierre-Yves Dermagne',  '\"Het rapport betreffende de vergelijking van de\\r\\nconsumptieprijzen\"'']\n",
    "#     [' Sander Loones', 'Thomas Dermine', '\"Het oordeel van de Europese\\r\\nCommissie inzake de relancegelden\"']\n",
    "#     ['Sander\\r\\nLoones', 'Pierre-Yves Dermagne', '\"De\\r\\nbekendmaking van en de consensus over voorbereidende wetgevende teksten\"']  \n",
    "#     '''\n",
    "    \n",
    "#     # Regex pattern for the first type of input ('Vraag van')\n",
    "#     pattern1 = r'''\n",
    "#         '\\d+\\s+Question\\s+de\\s+          # Match the beginning of the string with a number followed by 'Question de'\n",
    "#         (.+?)\\s+à\\s+(.+?)\\s+sur\\s+  # Capture group 1: match anything until 'aan', group 2: match anything until 'sur'\n",
    "#         (.*?)$                         # Capture group 3: match anything until the end of the string\n",
    "#     '''\n",
    "    \n",
    "#     # Regex pattern for the second type of input ('Samengevoegde vraag van -')\n",
    "#     pattern2 = r'''\n",
    "#         -\\s*                            # Match a dash followed by any number of whitespace characters\n",
    "#         (.+?)\\s+à\\s+(.+?)\\s+sur\\s+    # Capture group 1: match anything until 'à', group 2: match anything until 'sur'\n",
    "#         (.*?)$                         # Capture group 3: match anything until the end of the string\n",
    "#     '''\n",
    "\n",
    "    \n",
    "#     # Extract data using regex\n",
    "#     extracted_data = []\n",
    "#     for h2_section in h2_sections:\n",
    "#         match1 = re.search(pattern1, h2_section, re.VERBOSE)\n",
    "#         match2 = re.search(pattern2, h2_section, re.VERBOSE)\n",
    "#         if match1:\n",
    "#             extracted_data.append([match1.group(1).strip(), match1.group(2).strip(), match1.group(3).strip()])\n",
    "#         elif match2:\n",
    "#             extracted_data.append([match2.group(1).strip(), match2.group(2).strip(), match2.group(3).strip()])\n",
    "\n",
    "    \n",
    "#     return extracted_data"
   ]
  },
  {
   "cell_type": "code",
   "execution_count": null,
   "id": "a2ba2c5a-b68d-44ee-8642-0e990de3cd56",
   "metadata": {},
   "outputs": [],
   "source": [
    "# # Extract names from h2 sections\n",
    "# names = extract_info_oral_questions(h2_sections)\n",
    "# names"
   ]
  },
  {
   "cell_type": "markdown",
   "id": "fe57333c-1d89-4174-920a-e54aafeeede1",
   "metadata": {},
   "source": [
    "Of the following list of strings, I want to delete some entries. The list contains duplicates (i.e. the same content but both in Dutch and in French). I only need to maintain 1 language version. To do so, I first group the different entries into sublists, each sublist starting with a digit. Then we can remove the second item of 2 consequtive sublists with the same digit."
   ]
  },
  {
   "cell_type": "code",
   "execution_count": null,
   "id": "bc1d4677-e6bc-488b-a8d7-a241ff1e59b9",
   "metadata": {},
   "outputs": [],
   "source": [
    "# def group_subquestions"
   ]
  },
  {
   "cell_type": "code",
   "execution_count": null,
   "id": "41b5a764-0805-4b1a-a10b-98b415625c42",
   "metadata": {},
   "outputs": [],
   "source": [
    "# def clean_second_language_versions():\n",
    "    \n",
    "\n",
    "\n",
    "#     # Iterate through the nested list\n",
    "#     for sublist in nested_list:\n",
    "#         previous_digit = None\n",
    "#         for i in range(len(sublist)):\n",
    "#             # Check if the item starts with a digit\n",
    "#             if sublist[i][0].isdigit():\n",
    "#                 current_digit = sublist[i][0]\n",
    "#                 if previous_digit and current_digit == previous_digit:\n",
    "#                     # Remove the item if it starts with the same digit as the previous one\n",
    "#                     del sublist[i]\n",
    "#                     # Decrement the index to account for the removed item\n",
    "#                     i -= 1\n",
    "#                 else:\n",
    "#                     previous_digit = current_digit\n",
    "    \n",
    "#     # Flatten the nested list to get a flat list\n",
    "#     flat_list = [item for sublist in nested_list for item in sublist]"
   ]
  },
  {
   "cell_type": "code",
   "execution_count": null,
   "id": "9d33d283-1938-45e0-afe2-cb3b36c9b95c",
   "metadata": {},
   "outputs": [],
   "source": [
    "# nested_list = []\n",
    "# current_sublist = []\n",
    "\n",
    "# for h2_section in h2_sections:\n",
    "#     if h2_section[0].isdigit():\n",
    "#         # Start a new sublist\n",
    "#         if current_sublist:\n",
    "#             nested_list.append(current_sublist)\n",
    "#         current_sublist = [h2_section]\n",
    "#     else:\n",
    "#         # Append to the current sublist\n",
    "#         current_sublist.append(h2_section)\n",
    "\n",
    "# # Append the last sublist\n",
    "# if current_sublist:\n",
    "#     nested_list.append(current_sublist)\n",
    "\n",
    "# nested_list"
   ]
  },
  {
   "cell_type": "markdown",
   "id": "e82aa366-5a52-466b-92e1-8b2704d5c94b",
   "metadata": {},
   "source": [
    "## Using 'oraspr' tags"
   ]
  },
  {
   "cell_type": "code",
   "execution_count": null,
   "id": "9dabccbc-ddd6-401c-9f1e-2570ef9de738",
   "metadata": {},
   "outputs": [],
   "source": [
    "# # Function to fetch HTML content from a URL\n",
    "# def fetch_html_content(url):\n",
    "#     response = requests.get(url)\n",
    "#     if response.status_code == 200:\n",
    "#         return response.text\n",
    "#     else:\n",
    "#         print(\"Failed to fetch HTML content from the URL:\", url)\n",
    "#         return None"
   ]
  },
  {
   "cell_type": "code",
   "execution_count": null,
   "id": "ecef9ac1-f7cf-4555-b938-8afc7a409d53",
   "metadata": {},
   "outputs": [],
   "source": [
    "# # Fetch HTML content from the URL\n",
    "# html_content = fetch_html_content(url_meeting)\n",
    "\n",
    "# names_all = []\n",
    "\n",
    "# if html_content:\n",
    "#     # Parse HTML content\n",
    "#     soup = BeautifulSoup(html_content, 'html.parser')\n",
    "\n",
    "#     # Extract names from elements with class 'oraspr'\n",
    "#     names = [element.text.strip() for element in soup.find_all(class_='oraspr')]\n",
    "\n",
    "\n",
    "#     # Remove carriage returns and newline characters (replace by space)\n",
    "#     # Remove elements from the list if they match the regex pattern (i.e. are an indicator int)\n",
    "#         # Explanation of the regular expression:\n",
    "#         # ^         - Asserts the start of the string\n",
    "#         # \\d+\\.\\d+  - Matches one or more digits followed by a dot and another digit\n",
    "#         # re.match() function checks if the pattern matches at the beginning of the string\n",
    "#     cleaned_names = [name.replace('\\r\\n', ' ').strip() for name in names if not re.match(r'^\\d+\\.\\d+', name)]\n",
    "    \n",
    "#     # Remove empty strings\n",
    "#     cleaned_names = [name for name in cleaned_names if name != '']\n",
    "    \n",
    "#     names_all.extend(cleaned_names)\n",
    "\n",
    "# print(names_all)"
   ]
  },
  {
   "cell_type": "code",
   "execution_count": null,
   "id": "cee9f712-2466-4258-8345-7faeba3b65f8",
   "metadata": {},
   "outputs": [],
   "source": []
  }
 ],
 "metadata": {
  "kernelspec": {
   "display_name": "Python 3 (Spyder)",
   "language": "python3",
   "name": "python3"
  },
  "language_info": {
   "codemirror_mode": {
    "name": "ipython",
    "version": 3
   },
   "file_extension": ".py",
   "mimetype": "text/x-python",
   "name": "python",
   "nbconvert_exporter": "python",
   "pygments_lexer": "ipython3",
   "version": "3.11.7"
  }
 },
 "nbformat": 4,
 "nbformat_minor": 5
}
