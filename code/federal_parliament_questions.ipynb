{
 "cells": [
  {
   "cell_type": "markdown",
   "id": "64db5c3b-a872-45ec-bcf1-00c4c45071fc",
   "metadata": {},
   "source": [
    "The Belgian Federal Parliament (De Kamer) provides an overview of all written questions of members of parliament to the ministers. There is no API. The questions and answers are available through pdfs or html pages. "
   ]
  },
  {
   "cell_type": "markdown",
   "id": "fbe34a61-9716-487f-b361-5c89ffde7fc6",
   "metadata": {},
   "source": [
    "# Setting up"
   ]
  },
  {
   "cell_type": "code",
   "execution_count": 1,
   "id": "f1fc88f1-c4b4-474d-8428-6711bacb121b",
   "metadata": {},
   "outputs": [],
   "source": [
    "# show all outputs of cell, not merely of last line (i.e. default of Jupyter Notebook)\n",
    "from IPython.core.interactiveshell import InteractiveShell\n",
    "InteractiveShell.ast_node_interactivity = \"all\""
   ]
  },
  {
   "cell_type": "code",
   "execution_count": 2,
   "id": "e305e626-4f26-4247-b244-be916e26a059",
   "metadata": {},
   "outputs": [],
   "source": [
    "import os\n",
    "import requests\n",
    "from bs4 import BeautifulSoup\n",
    "\n",
    "import pandas as pd\n",
    "\n",
    "import re\n",
    "import pickle"
   ]
  },
  {
   "cell_type": "markdown",
   "id": "a3c6f390-959a-44e1-bc03-2fa73bd3fd28",
   "metadata": {},
   "source": [
    "# Extract various Bulletins"
   ]
  },
  {
   "cell_type": "markdown",
   "id": "a3bf41a0-ab8b-4786-b6d1-3ec985e7bc51",
   "metadata": {},
   "source": [
    "First we create a function to obtain the urls of all so-called Bulletins in which the Federal Parliament provides the individual questions. "
   ]
  },
  {
   "cell_type": "code",
   "execution_count": 3,
   "id": "7f5d7a4c-a218-4196-96f6-79a255e648bd",
   "metadata": {},
   "outputs": [],
   "source": [
    "def scrape_list_bulletins(url):\n",
    "    response = requests.get(url)\n",
    "    \n",
    "    if response.status_code == 200:\n",
    "        soup = BeautifulSoup(response.text, 'html.parser')\n",
    "        bulletin_urls = []\n",
    "    \n",
    "        for link in soup.find_all('a', href=True):\n",
    "            if link['href'].startswith('showpage.cfm?&language=nl&cfm=/site/wwwcfm/qrva/qrvatoc.cfm?legislat'):\n",
    "                bulletin_url = f\"https://www.dekamer.be/kvvcr/{link['href']}\"\n",
    "\n",
    "                # print(bulletin_url)\n",
    "\n",
    "                bulletin_urls.append(bulletin_url)\n",
    "\n",
    "        # Remove duplicates, since urls are 2 times shown\n",
    "        bulletin_urls = sorted(set(bulletin_urls))\n",
    "        \n",
    "        return bulletin_urls\n",
    "\n",
    "    else:\n",
    "        print(f\"Failed to retrieve the page. Status code: {response.status_code}\")"
   ]
  },
  {
   "cell_type": "code",
   "execution_count": 4,
   "id": "0f5c56ea-2b28-45ad-a45e-fc90d23ddea2",
   "metadata": {},
   "outputs": [
    {
     "data": {
      "text/plain": [
       "['https://www.dekamer.be/kvvcr/showpage.cfm?&language=nl&cfm=/site/wwwcfm/qrva/qrvatoc.cfm?legislat=55&bulletin=B001',\n",
       " 'https://www.dekamer.be/kvvcr/showpage.cfm?&language=nl&cfm=/site/wwwcfm/qrva/qrvatoc.cfm?legislat=55&bulletin=B002',\n",
       " 'https://www.dekamer.be/kvvcr/showpage.cfm?&language=nl&cfm=/site/wwwcfm/qrva/qrvatoc.cfm?legislat=55&bulletin=B003',\n",
       " 'https://www.dekamer.be/kvvcr/showpage.cfm?&language=nl&cfm=/site/wwwcfm/qrva/qrvatoc.cfm?legislat=55&bulletin=B004',\n",
       " 'https://www.dekamer.be/kvvcr/showpage.cfm?&language=nl&cfm=/site/wwwcfm/qrva/qrvatoc.cfm?legislat=55&bulletin=B005']"
      ]
     },
     "execution_count": 4,
     "metadata": {},
     "output_type": "execute_result"
    },
    {
     "data": {
      "text/plain": [
       "125"
      ]
     },
     "execution_count": 4,
     "metadata": {},
     "output_type": "execute_result"
    }
   ],
   "source": [
    "# Define url of page with overview of urls of bulletins\n",
    "url_main_page = \"https://www.dekamer.be/kvvcr/showpage.cfm?section=/qrva&language=nl&cfm=qrvaList.cfm\"\n",
    "\n",
    "# Obtain urls\n",
    "bulletin_urls_main_page = scrape_list_bulletins(url_main_page)\n",
    "\n",
    "# Inspect results\n",
    "bulletin_urls_main_page[:5]\n",
    "len(bulletin_urls_main_page)"
   ]
  },
  {
   "cell_type": "markdown",
   "id": "3a7ac797-8aa2-40ce-8be2-4b8c4b2c2e30",
   "metadata": {},
   "source": [
    "# Extract relevant information for each question"
   ]
  },
  {
   "cell_type": "markdown",
   "id": "58ae051a-2fcd-4829-be9b-7a92f579919f",
   "metadata": {},
   "source": [
    "Each Bulletin contains various questions. The html page of the Bulletin provides for each question some information, which can extract:\n",
    "* ID (i.e. the unique identifier of each question)\n",
    "* Auteur (i.e. author, the member of parliament posing the question)\n",
    "* Partij (i.e. the party of which the author is a member)\n",
    "* Departement (i.e. the minister to whom the question is directed)\n",
    "* Titel (i.e. subject of the question)\n",
    "* Datum ingediend (i.e. the date when the question was asked)\n",
    "* Antwoord gepubliceerd (i.e. the hyperlink to the answer to the question)\n",
    "\n",
    "To obtain these elements, we create various functions. \n",
    "\n",
    "The html structure is not so clear (i.e. not all relevant elements are contained within a single container, so using specific anchors does not suffice). IN particular the date the question was asked and whether an answer was provided before publishing the question or not is provided in a different tag (see example below). As indicated below, the `div` element includes most information, but not the date the question was asked and the hyperlink to the answer."
   ]
  },
  {
   "cell_type": "markdown",
   "id": "abc835c9-2dda-46a4-a2d2-40d1784b1935",
   "metadata": {},
   "source": [
    "```html\n",
    "<tr>\n",
    "\t<td valign=\"middle\"><img src=\"/images/arrow3.png\"></td><td><div class=\"linklist_1\">\n",
    "\t232. \n",
    "\t<br>\n",
    "\t\n",
    "\t<A HREF=\"showpage.cfm?section=qrva&language=nl&cfm=qrvaXml.cfm?legislat=55&dossierID=55-b101-1320-1814-2022202317928.xml\">B101</A>\n",
    "\t</div></td>\n",
    "\t<td><div class=\"linklist_1\">\t\n",
    "\t\t<table width=\"100%\">\n",
    "        <tr><td class=\"txt\" width=\"150\">\n",
    "\t\t<i>Auteur</i></td><td class=\"txt\">Dominiek\n",
    "      Sneppe,\n",
    "      VB (O1330)</td></tr>\n",
    "\t\t<tr><td class=\"txt\">\n",
    "\t\t<i>Departement</i></td><td class=\"txt\">Vice-eersteminister en Minister van Sociale Zaken en Volksgezondheid</td></tr>\n",
    "\t\t<tr><td class=\"txt\"><i>Titel</i></td><td class=\"txt\">Privéziekenhuizen.</div></td></tr>\n",
    "\n",
    " \n",
    "\n",
    "\t\t\n",
    "\t\t\n",
    "\t\t\t\t\n",
    "\t\t<tr>\n",
    "\t\t<td class=\"txt\"><i>Datum indiening</i></td>\n",
    "\t\t<td class=\"txt\">06/12/2022&nbsp;&nbsp;&nbsp;&nbsp;&nbsp;&nbsp;\n",
    "\t\t<i>\n",
    "\t\tVraag, antwoord ontvangen :&nbsp;\n",
    "\t\t\t\t\t\n",
    "\t\t\t\t\t\t<A HREF=\"http://www.dekamer.be/QRVA/pdf/55/55K0101.pdf\" target=\"_blank\">B101</A>\n",
    "\t\t\t\t\t\n",
    "\t\t</i>\n",
    "\t\t</td></tr>\n",
    "\n",
    "\t\t\n",
    "\t\t\n",
    "\t\t\n",
    "\t\t\n",
    "\n",
    "\t\t<tr><td class=\"txt\"><i>Trefwoord</i></td><td class=\"txt\"></td></tr>\n",
    "\t\t</table>\n",
    "\t</td></tr>\n",
    " ```"
   ]
  },
  {
   "cell_type": "markdown",
   "id": "b5825784-aa9d-4526-b654-74f924aeed11",
   "metadata": {},
   "source": [
    "A first helper function extracts the relevant textual elements from the hltm strings. This approach is less robust then using BeautifulSoup to extract html elements. However, the latter approach is more error prone in this context, possibly due to the overall set up of the html page (see earlier). We will later on use this function to extract the relevant parts of the html code for each segment relating to a specific question."
   ]
  },
  {
   "cell_type": "code",
   "execution_count": 5,
   "id": "2fcc58e7-706f-4d4d-8666-10ead3fcdf02",
   "metadata": {},
   "outputs": [],
   "source": [
    "def extract_text(s, start, end):\n",
    "    start_index = s.find(start)\n",
    "    if start_index != -1:\n",
    "        start_index += len(start)\n",
    "        end_index = s.find(end, start_index)\n",
    "        if end_index != -1:\n",
    "            return s[start_index:end_index].strip()"
   ]
  },
  {
   "cell_type": "markdown",
   "id": "adac7069-b441-4a39-a41e-d77d8a31a05b",
   "metadata": {},
   "source": [
    "The second helper function is a function to split the information obtained through the tag `Auteur`. This does not only contain the actual author of the question, but also its party and an ID of the question. "
   ]
  },
  {
   "cell_type": "code",
   "execution_count": 6,
   "id": "f6dee34b-b8b6-4c38-896f-69a97e4f98a8",
   "metadata": {},
   "outputs": [],
   "source": [
    "# # Create helper function \n",
    "# def split_author(input_string):\n",
    "#     \"\"\"\n",
    "#     Function to split strings as obtained from html page into name of member, his/her party and id of question\n",
    "\n",
    "#     e.g. \n",
    "#     'Anneleen\\n      Van Bossuyt,\\n      N-VA (07354)'\n",
    "#     ('Anneleen Van Bossuyt', ' N-VA ', '07354')\n",
    "#     \"\"\"\n",
    "#     if input_string:\n",
    "#         # Remove unnecessary characters (newlines and bracket at end (of id number))\n",
    "#         cleaned_string = input_string.replace(\"\\n\", \"\").rstrip(\")\")\n",
    "        \n",
    "#         # Replace any sequence of spaces with a single space\n",
    "#         cleaned_string = re.sub(r'\\s+', ' ', cleaned_string)\n",
    "    \n",
    "#         # split on comma (between name and party) and left bracket (between party and id number)\n",
    "#         name, party, id_number = re.split(r',|\\(', cleaned_string)\n",
    "    \n",
    "#         return name, party, id_number\n",
    "#     else:\n",
    "#         return None, None, None"
   ]
  },
  {
   "cell_type": "code",
   "execution_count": 7,
   "id": "f064001d-dcb6-4dcb-95bd-a19510ce8160",
   "metadata": {},
   "outputs": [],
   "source": [
    "# Create helper function \n",
    "def split_author(input_string):\n",
    "    \"\"\"\n",
    "    Function to split strings as obtained from html page into name of member, his/her party and id of question\n",
    "\n",
    "    e.g. \n",
    "    'Anneleen\\n      Van Bossuyt,\\n      N-VA (07354)'\n",
    "    ('Anneleen Van Bossuyt', ' N-VA ', '07354')\n",
    "    \"\"\"\n",
    "    # Remove unnecessary characters (newlines and bracket at end (of id number))\n",
    "    cleaned_string = input_string.replace(\"\\n\", \"\").rstrip(\")\")\n",
    "    \n",
    "    # Replace any sequence of spaces with a single space\n",
    "    cleaned_string = re.sub(r'\\s+', ' ', cleaned_string)\n",
    "\n",
    "    # split on comma (between name and party) and left bracket (between party and id number)\n",
    "    name, party, id_number = re.split(r',|\\(', cleaned_string)\n",
    "\n",
    "    return name, party, id_number"
   ]
  },
  {
   "cell_type": "markdown",
   "id": "8245d015-7ceb-4c66-be88-f51764f7dfb2",
   "metadata": {},
   "source": [
    "Then we create a function to actually scrape each bulletin and obtain the relevant information for each question, using the url of the specific bulletin page as input."
   ]
  },
  {
   "cell_type": "code",
   "execution_count": 8,
   "id": "37724360-912c-4cd2-aa78-d73de7093168",
   "metadata": {},
   "outputs": [],
   "source": [
    "def scrape_bulletin(url):\n",
    "    # Send an HTTP GET request to the URL\n",
    "    response = requests.get(url)\n",
    "\n",
    "    # If no error, proceed\n",
    "    if response.status_code == 200:\n",
    "        # Get the HTML content from the response and parse it\n",
    "        soup = BeautifulSoup(response.content, 'html.parser')\n",
    "\n",
    "        # Split soup string at every staring point of a relevant htlml block, \n",
    "        # i.e. indicated by \"<div class=\"linklist_0\">\" or \"<div class=\"linklist_1\">\"\n",
    "        # There are separate div elements for the enumeration (e.g. 11., 25.).\n",
    "        # we can avoid selecting thise too by adding the start of the html code in the relevant section,\n",
    "        # i.e. \"\\n<table width=\"100%\">\\n\"\n",
    "        questions = re.split(r'<div class=\\\"linklist_[01]\\\">\\n<table width=\"100%\">\\n', str(soup))\n",
    "        \n",
    "        # Create empty lis to store details\n",
    "        details_question_list =[]\n",
    "\n",
    "        # Iterate over all questions (i.e. the html strings of the relevant htlm blocks)\n",
    "        # Do not iterate over the first element, since this is the html code up to the first relevant section \n",
    "        # (i.e. before the content relating to the questions)\n",
    "        for question in questions[1:]: \n",
    "            # Extracting values for the specified tags\n",
    "            author_full = extract_text(question, '<i>Auteur</i></td><td class=\"txt\">', '</td>')\n",
    "            department = extract_text(question, '<i>Departement</i></td><td class=\"txt\">', '</td>')\n",
    "            title = extract_text(question, '<i>Titel</i></td><td class=\"txt\">', '</td>')\n",
    "            date_submission_full= extract_text(question, '<i>Datum indiening</i></td>\\n<td class=\"txt\">', '</td>')\n",
    "            date_submission = date_submission_full.split()[0] if date_submission_full else None\n",
    "            answer_published = extract_text(question, '<a href=\"', '\" target=\"_blank\">')\n",
    "        \n",
    "            # Split string on about using dedicated function\n",
    "            author, party_author, id_question = split_author(author_full)\n",
    "        \n",
    "            #Store elements in overall list\n",
    "            details_question_list.append([id_question, author, party_author, department, \n",
    "                                          title, date_submission, answer_published])\n",
    "\n",
    "        return details_question_list\n",
    "                \n",
    "    else:\n",
    "        print(f\"Failed to retrieve the page. Status code: {response.status_code}\")"
   ]
  },
  {
   "cell_type": "code",
   "execution_count": 9,
   "id": "f75d4037-de96-4ea2-bc56-a6d574728585",
   "metadata": {},
   "outputs": [],
   "source": [
    "# # +++++++++++++++++++++++++++++++++++++++++++++++++++++++++++++++++\n",
    "# # limit amounf of pages for testing\n",
    "# bulletin_urls_main_page = bulletin_urls_main_page[:3]\n",
    "# # +++++++++++++++++++++++++++++++++++++++++++++++++++++++++++++++++"
   ]
  },
  {
   "cell_type": "markdown",
   "id": "b1062126-a7cc-43e3-923d-f4fc35e3ed3a",
   "metadata": {},
   "source": [
    "Then we apply the scraping function to all the bulletin pages. "
   ]
  },
  {
   "cell_type": "code",
   "execution_count": null,
   "id": "e1b346a7-443a-4a4a-a88a-78db8c0bad07",
   "metadata": {},
   "outputs": [
    {
     "name": "stdout",
     "output_type": "stream",
     "text": [
      "Bulletins with questions processed: 1.\n",
      "Bulletins with questions processed: 2.\n",
      "Bulletins with questions processed: 3.\n",
      "Bulletins with questions processed: 4.\n",
      "Bulletins with questions processed: 5.\n",
      "Bulletins with questions processed: 6.\n",
      "Bulletins with questions processed: 7.\n"
     ]
    }
   ],
   "source": [
    "# Initialize list with details on all questions\n",
    "questions_all = []\n",
    "# iterate over all urls of bulletin\n",
    "for index, url in enumerate(bulletin_urls_main_page):\n",
    "    # Obtain information of all questions in relevant bulletin\n",
    "    questions_per_bulletin = scrape_bulletin(url)\n",
    "    questions_all.extend(questions_per_bulletin) # extend to overall list (no appending to avoid nesting)\n",
    "    print(f\"Bulletins with questions processed: {index + 1}.\") # Show progress\n",
    "\n",
    "print(\"***** All bulletins processed. *****\")"
   ]
  },
  {
   "cell_type": "markdown",
   "id": "4bf800d9-55f2-4b6c-91bf-686a283a625f",
   "metadata": {},
   "source": [
    "This results in a list of the relevant elements per question. We turn this into a dataframe for easier handling and inspection."
   ]
  },
  {
   "cell_type": "code",
   "execution_count": null,
   "id": "c6223cfd-6215-4b28-9884-1dcf29cdf2d0",
   "metadata": {},
   "outputs": [],
   "source": [
    "# Turn list into dataframe\n",
    "questions_df = pd.DataFrame(questions_all,\n",
    "                            columns = [\"ID vraag\", \"Parlementslid\", \"Partij parlementslid\", \n",
    "                                       \"Minister (bevoegdheden)\", \"Onderwerp\",\n",
    "                                       \"Datum ingediend\", \"Url publicatie\"]\n",
    "                           )"
   ]
  },
  {
   "cell_type": "code",
   "execution_count": null,
   "id": "2a2dbb56-4e4b-488e-86c9-9659d7dd216c",
   "metadata": {
    "scrolled": true
   },
   "outputs": [],
   "source": [
    "# # Inspect results\n",
    "questions_df.head()\n",
    "questions_df[\"Partij parlementslid\"].value_counts()\n",
    "questions_df.dtypes\n",
    "\n",
    "# Filter rows where at least 1 column has value 'None'\n",
    "questions_df[questions_df.isna().any(axis=1)]"
   ]
  },
  {
   "cell_type": "markdown",
   "id": "00d824d2-1134-452c-92d2-4dcc6711ac3f",
   "metadata": {},
   "source": [
    "# Clean up resulting data"
   ]
  },
  {
   "cell_type": "markdown",
   "id": "42d320b6-73c3-453c-81b2-88197fece524",
   "metadata": {},
   "source": [
    "Upon inspection of the results, it seems some party names are incorrect. \n",
    "* Sometimes abbreviations are use (`VB` instead of `Vlaams Belang`).\n",
    "* Or a party changed names during the legislative periode (e.g. `sp.a` v. `Vooruit` or `cdh` v. `Les Engagés`).\n",
    "* Also, during the string extraction, their appear some issues with extracting `CD&V` (i.e. resulting in `CD&amp;V` instead)."
   ]
  },
  {
   "cell_type": "code",
   "execution_count": null,
   "id": "7870df25-0c45-4e67-8bf6-90129f6f327d",
   "metadata": {},
   "outputs": [],
   "source": [
    "# Strip leading and trailing whitespace from column names\n",
    "questions_df.columns = questions_df.columns.str.strip()\n",
    "\n",
    "# Replace party names, accounting for trailing spaces\n",
    "questions_df[\"Partij parlementslid\"] = questions_df[\"Partij parlementslid\"].str.strip().replace(['sp.a', 'Voorui'], 'Vooruit')\n",
    "questions_df[\"Partij parlementslid\"] = questions_df[\"Partij parlementslid\"].str.strip().replace(['cdH', 'LENGAG'], 'Les Engagés')\n",
    "questions_df[\"Partij parlementslid\"] = questions_df[\"Partij parlementslid\"].str.strip().replace('CD&amp;V', 'cd&v')\n",
    "\n",
    "# Additional replacements, accounting for trailing spaces\n",
    "questions_df[\"Partij parlementslid\"] = questions_df[\"Partij parlementslid\"].str.strip().replace({\n",
    "    # ['sp.a', 'Voorui']: 'Vooruit',\n",
    "    # ['cdH', 'LENGAG']: 'Les Engagés',\n",
    "    # 'CD&amp;V': 'cd&v',\n",
    "    'DéFI': 'Défi', \n",
    "    'VB': 'Vlaams Belang', \n",
    "    'INDEP': 'Onafhankelijk',\n",
    "})\n",
    "\n",
    "# Inspect restuls\n",
    "questions_df[\"Partij parlementslid\"].value_counts()"
   ]
  },
  {
   "cell_type": "markdown",
   "id": "c826357e-e1f1-4ea7-b660-611e6aba38b0",
   "metadata": {},
   "source": [
    "Furthermore, the subject generally contains a trailing dot, so we remove this. "
   ]
  },
  {
   "cell_type": "code",
   "execution_count": null,
   "id": "95ef5148-134b-45e0-83cc-e86650d22b62",
   "metadata": {},
   "outputs": [],
   "source": [
    "questions_df[\"Onderwerp\"] = questions_df[\"Onderwerp\"] .str.rstrip('.')"
   ]
  },
  {
   "cell_type": "markdown",
   "id": "4d744d16-2eb1-4020-8130-524946f6f711",
   "metadata": {},
   "source": [
    "Also, the date of the questions is in string format. Hence, we recast to datetime format."
   ]
  },
  {
   "cell_type": "code",
   "execution_count": null,
   "id": "99986966-a55c-4377-9d6a-70fb2f742a6e",
   "metadata": {
    "scrolled": true
   },
   "outputs": [],
   "source": [
    "# Convert the 'date_column' from string to datetime format\n",
    "questions_df[\"Datum ingediend\"] = pd.to_datetime(questions_df[\"Datum ingediend\"], \n",
    "                                                dayfirst=True)\n",
    "\n",
    "# # Extract only the date part from the datetime column\n",
    "# questions_df['Datum ingediend'] = questions_df['Datum ingediend'].dt.date\n",
    "\n",
    "# Inspect results\n",
    "questions_df.dtypes\n",
    "questions_df.head()\n",
    "\n",
    "questions_df[\"Datum ingediend\"].min()\n",
    "questions_df[\"Datum ingediend\"].max()"
   ]
  },
  {
   "cell_type": "markdown",
   "id": "ad20d513-c06f-458e-8a01-2c110fda12f8",
   "metadata": {},
   "source": [
    "## Add minister name, based on relevant timeframe holding specific position"
   ]
  },
  {
   "cell_type": "markdown",
   "id": "77bfca8c-7a40-4821-a183-c751f51c6339",
   "metadata": {},
   "source": [
    "Also, the responsible minister is merely name by the competences he/she manages. It seems more user-friendly to replace this by the actual name of the minister. However, some positions were held by multiple people, consequtively. Hence, the positions cannot serve as a unique key. For clarity, we first identify all relevant positions. Later on, we handle this ambiguity. "
   ]
  },
  {
   "cell_type": "code",
   "execution_count": null,
   "id": "a39589c1-45a4-4b44-9e63-c8898c36a7b9",
   "metadata": {},
   "outputs": [],
   "source": [
    "minister_competences_2_names_dict = {\n",
    "    # Function allocated to multiple persons, unclear to distinguish based on allocated competences\n",
    "    'Eerste Minister': 'Charles Michel', # during Michel II - 9 december 2018 - 27 oktober 2019\n",
    "    'Eerste Minister': 'Sophie Wilmès', # 27 oktober 2019 - 30 november 2019 (before exit Reynders) \n",
    "    'Eerste Minister': 'Alexander De Croo', # 1 oktober 2020 - now\n",
    "\n",
    "    # Michel II (9 december 2018 - 27 oktober 2019) (and not continued as such in Wilmès-I and / Wilmès-II)\n",
    "        # See https://nl.wikipedia.org/wiki/Regering-Michel_II\n",
    "    \n",
    "    'Minister van Begroting en van Ambtenarenzaken, belast met de Nationale Loterij en Wetenschapsbeleid': 'Sophie Wilmès',\n",
    "    'Minister van Werk, Economie en Consumenten, belast met Buitenlandse Handel, Armoedebestrijding, Gelijke Kansen en Personen met een beperking': 'Wouter Beke', # 2 juli 2019 - 2 oktober 2019 \n",
    "    \n",
    "    \n",
    "    # Wilmès-I (27 oktober 2019 - 17 maart 2020)\n",
    "        # See https://nl.wikipedia.org/wiki/Regering-Wilm%C3%A8s_I\n",
    "\n",
    "        # Before exit Didier Reynders (27 oktober 2019 - 30 november 2019)\n",
    "    'Vice-eersteminister en Minister van Buitenlandse en Europese Zaken, en van Defensie, belast met Beliris en de Federale Culturele Instellingen': 'Didier Reynders', \n",
    "    'Minister van Begroting en van Ambtenarenzaken, belast met de Nationale Loterij en Wetenschapsbeleid': 'David Clarinval', \n",
    "    'Vice-eersteminister en Minister van Justitie, belast met de Regie der Gebouwen': 'Koen Geens', \n",
    "\n",
    "        # After exit Didier Reynders: \n",
    "        # competences shifted to Wilmès, Clarinval and Geens (but remained same during Wilmès I and Wilmès II)\n",
    "    \n",
    "    # Wilmès-II (17 maart 2020 - 1 oktober 2020)\n",
    "        # Zie https://nl.wikipedia.org/wiki/Regering-Wilm%C3%A8s_II\n",
    "\n",
    "\n",
    "    # Wilmès I en Wilmès II (so no changes at 17 maart 2020 - so from 27 oktober 2019 or 30 november 2019 until 1 oktober 2020)\n",
    "        # After exit Reynders (as of 30 november 2019 until 1 oktober 2020)\n",
    "    'Eerste Minister, belast met Beliris en de Federale Culturele Instellingen': 'Sophie Wilmès', \n",
    "    'Vice-eersteminister en Minister van Begroting en van Ambtenarenzaken, belast met de Nationale Loterij en Wetenschapsbeleid': 'David Clarinval', \n",
    "    'Vice-eersteminister en Minister van Justitie, belast met de Regie der Gebouwen, en Minister van Europese Zaken': 'Koen Geens',\n",
    "\n",
    "        # General (as of 27 oktober 2019 until 1 oktober 2020)\n",
    "    'Vice-eersteminister en Minister van Financiën, belast met Bestrijding van de fiscale fraude, en Minister van Ontwikkelingszaken': 'Alexander De Croo',\n",
    "\n",
    "    'Minister van Buitenlandse Zaken, en van Defensie': 'Philippe Goffin',\n",
    "    'Minister van Digitale Agenda, Telecommunicatie en Post, belast met Administratieve Vereenvoudiging, Bestrijding van de sociale fraude, Privacy en Noordzee': 'Philippe De Backer',\n",
    "    'Minister van Energie, Leefmilieu en Duurzame Ontwikkeling': 'Marie-Christine Marghem',\n",
    "    \"Minister van Middenstand, Zelfstandigen, Kmo's, Landbouw, en Maatschappelijke Integratie, belast met Grote Steden\": 'Denis Ducarme',\n",
    "    'Minister van Mobiliteit, belast met Belgocontrol en de Nationale Maatschappij der Belgische spoorwegen': 'François Bellot',\n",
    "    'Minister van Pensioenen': 'Daniel Bacquelaine',\n",
    "    'Minister van Sociale Zaken en Volksgezondheid, en van Asiel en Migratie': 'Maggie De Block',\n",
    "    'Minister van Veiligheid en Binnenlandse Zaken': 'Pieter De Crem',\n",
    "    'Minister van Werk, Economie en Consumenten, belast met Armoedebestrijding, Gelijke Kansen en Personen met een beperking': 'Nathalie Muylle', # 2 oktober 2019 - 27 oktober 2019 \n",
    "     \n",
    "    # Regering De Croo\n",
    "\n",
    "    'Vice-eersteminister en Minister van Economie en Werk': 'Pierre-Yves Dermagne',\n",
    "    'Vice-eersteminister en Minister van Buitenlandse Zaken, Europese Zaken en Buitenlandse Handel, en de Federale Culturele Instellingen': 'Sophie Wilmès', # 1 oktober - 14 juli 2022\n",
    "    'Vice-eersteminister en Minister van Mobiliteit': 'Georges Gilkinet',\n",
    "    'Vice-eersteminister en Minister van Financiën, belast met de Coördinatie van de fraudebestrijding': 'Vincent Van Peteghem',\n",
    "    'Vice-eersteminister en Minister van Sociale Zaken en Volksgezondheid': 'Frank Vandenbroucke',\n",
    "    'Vice-eersteminister en Minister van Ambtenarenzaken, Overheidsbedrijven, Telecommunicatie en Post': 'Petra De Sutter',\n",
    "    'Vice-eersteminister en Minister van Justitie, belast met de Noordzee': 'Vincent Van Quickenborne', # 1 oktober 2020 - 22 oktober 2023\n",
    "    'Vice-eersteminister en Minister van Justitie, belast met de Noordzee': 'Paul Van Tigchelt', # 22 oktober 2023 - now\n",
    "    \n",
    "    \n",
    "\n",
    "    \"Minister van Middenstand, Zelfstandigen, Kmo's en Landbouw, Institutionele Hervormingen en Democratische Vernieuwing\": 'David Clarinval',\n",
    "    \"Minister van Middenstand, Zelfstandigen, Kmo's en Landbouw, Institutionele Hervormingen en Democratische Vernieuwing, belast met Buitenlandse Handel\" :'David Clarinval', \n",
    "    'Minister van Pensioenen en Maatschappelijke Integratie, belast met Personen met een beperking, Armoedebestrijding en Beliris': 'Karine Lalieux',\n",
    "    'Minister van Defensie': 'Ludivine Dedonder',\n",
    "    'Minister van Klimaat, Leefmilieu, Duurzame Ontwikkeling en Green Deal': 'Zakia Khattabi',\n",
    "    'Minister van Binnenlandse Zaken, Institutionele Hervormingen en Democratische Vernieuwing': 'Annelies Verlinden',\n",
    "    'Minister van Ontwikkelingssamenwerking en Grootstedenbeleid': 'Meryame Kitir', # 1 oktober 2020 - 17 december 2022 \n",
    "    'Minister van Ontwikkelingssamenwerking en Grootstedenbeleid': 'Caroline Gennez', # 17 december 2022 - now\n",
    "    # 'Minister van Ontwikkelingssamenwerking, belast met Grote Steden' seems to be same as 'Minister van Ontwikkelingssamenwerking en Grootstedenbeleid'\n",
    "    'Minister van Ontwikkelingssamenwerking, belast met Grote Steden': 'Meryame Kitir', # 1 oktober 2020 - 17 december 2022 \n",
    "    'Minister van Ontwikkelingssamenwerking, belast met Grote Steden': 'Caroline Gennez', # 17 december 2022 - now\n",
    "    'Minister van Energie': 'Tinne Van der Straeten',\n",
    "    'Minister van Buitenlandse Zaken, Europese Zaken en Buitenlandse Handel, en de Federale Culturele Instellingen.': 'Hadja Lahbib', # 15 juli 2022 - now\n",
    "    \n",
    "\n",
    "    'Staatssecretaris voor Relance en Strategische Investeringen, belast met Wetenschapsbeleid, toegevoegd aan de Minister van Economie en Werk': 'Thomas Dermine',\n",
    "    'Staatssecretaris voor Digitalisering, belast met Administratieve Vereenvoudiging, Privacy en de Regie der Gebouwen, toegevoegd aan de Eerste Minister': 'Mathieu Michel',\n",
    "    'Staatssecretaris voor Digitalisering, belast met Administratieve Vereenvoudiging, Privacy en de Regie der Gebouwen, de Federale Culturele Instellingen, toegevoegd aan de Eerste Minister': 'Mathieu Michel',\n",
    "    'Staatssecretaris voor Gendergelijkheid, Gelijke Kansen en Diversiteit, toegevoegd aan de Minister van Mobiliteit': 'Sarah Schlitz', # 1 oktober 2020 - 26 april 2023\n",
    "    'Staatssecretaris voor Gendergelijkheid, Gelijke Kansen en Diversiteit, toegevoegd aan de Minister van Mobiliteit': 'Marie-Colline Leroy', # 2 mei 2023 - now\n",
    "    'Staatssecretaris voor Asiel en Migratie, belast met de Nationale Loterij, toegevoegd aan de Minister van Binnenlandse Zaken, Institutionele Hervormingen en Democratische Vernieuwing': 'Sammy Mahdi', # 1 oktober 2020 - 28 juni 2022\n",
    "    'Staatssecretaris voor Asiel en Migratie, toegevoegd aan de Minister van Binnenlandse Zaken, Institutionele Hervormingen en Democratische Vernieuwing': 'Nicole de Moor', # 28 juni 2022 - now # 'Nationale Loterij' now at Van Peteghem\n",
    "    'Staatssecretaris voor Begroting en Consumentenbescherming, toegevoegd aan de Minister van Justitie, belast met de Noordzee': 'Eva De Bleeker', # 1 oktober 2020 - 18 november 2022 \n",
    "    'Staatssecretaris voor Begroting en Consumentenbescherming, toegevoegd aan de Minister van Justitie, belast met de Noordzee': 'Alexia Bertrand', # 18 november 2022 - now\n",
    "}"
   ]
  },
  {
   "cell_type": "code",
   "execution_count": null,
   "id": "b8845801-55aa-48b0-be92-aa68d9358d96",
   "metadata": {},
   "outputs": [],
   "source": [
    "# Temporary modification of dict, until splitting by time is possible\n",
    "minister_competences_2_names_dict[\"Eerste minister\"] = 'Alexander De Croo / Sophie Wilmès / Charles Michel'\n",
    "minister_competences_2_names_dict['Minister van Begroting en van Ambtenarenzaken, belast met de Nationale Loterij en Wetenschapsbeleid'] = 'Sophie Wilmès / David Clarinval'\n",
    "minister_competences_2_names_dict['Vice-eersteminister en Minister van Justitie, belast met de Noordzee'] = 'Vincent Van Quickenborne / Paul Van Tigchelt'\n",
    "minister_competences_2_names_dict['Minister van Ontwikkelingssamenwerking en Grootstedenbeleid'] = 'Meryame Kitir / Caroline Gennez'\n",
    "minister_competences_2_names_dict['Minister van Ontwikkelingssamenwerking, belast met Grote Steden'] = 'Meryame Kitir / Caroline Gennez'\n",
    "minister_competences_2_names_dict['Staatssecretaris voor Gendergelijkheid, Gelijke Kansen en Diversiteit, toegevoegd aan de Minister van Mobiliteit'] = 'Sarah Schlitz / Marie-Colline Leroy'\n",
    "minister_competences_2_names_dict['Staatssecretaris voor Begroting en Consumentenbescherming, toegevoegd aan de Minister van Justitie, belast met de Noordzee'] = 'Eva De Bleeker / Alexia Bertrand'"
   ]
  },
  {
   "cell_type": "code",
   "execution_count": null,
   "id": "b62a6c33-ee18-4963-a6b2-79f05a919b61",
   "metadata": {},
   "outputs": [],
   "source": [
    "# Assess results\n",
    "minister_competences_2_names_dict.keys()\n",
    "\n",
    "minister_competences_2_names_dict[\"Eerste minister\"]\n",
    "minister_competences_2_names_dict['Minister van Begroting en van Ambtenarenzaken, belast met de Nationale Loterij en Wetenschapsbeleid']\n",
    "minister_competences_2_names_dict['Vice-eersteminister en Minister van Justitie, belast met de Noordzee'] \n",
    "minister_competences_2_names_dict['Minister van Ontwikkelingssamenwerking en Grootstedenbeleid']\n",
    "minister_competences_2_names_dict['Minister van Ontwikkelingssamenwerking, belast met Grote Steden']\n",
    "minister_competences_2_names_dict['Staatssecretaris voor Gendergelijkheid, Gelijke Kansen en Diversiteit, toegevoegd aan de Minister van Mobiliteit'] \n",
    "minister_competences_2_names_dict['Staatssecretaris voor Begroting en Consumentenbescherming, toegevoegd aan de Minister van Justitie, belast met de Noordzee']"
   ]
  },
  {
   "cell_type": "code",
   "execution_count": null,
   "id": "2c43bad9-d44e-4c69-8a12-323a5e3f74af",
   "metadata": {},
   "outputs": [],
   "source": [
    "## Save minister_competences_2_names_dict for later use\n",
    "# 1. Save as pkl\n",
    "with open('../data/minister_competences_2_names_dict.pkl', 'wb') as file:\n",
    "    pickle.dump(minister_competences_2_names_dict, file)"
   ]
  },
  {
   "cell_type": "markdown",
   "id": "e44605e7-9337-44b0-96c8-82f5f5c754a7",
   "metadata": {},
   "source": [
    "First, we map the names of the ministers to the relevant positions, using the created dict. For the ambiguous positions, we initially use the grouped names as inserted above (e.g. 'Alexander De Croo / Sophie Wilmès / Charles Michel' for 'Eerste minister')."
   ]
  },
  {
   "cell_type": "code",
   "execution_count": null,
   "id": "579d53fa-1fdc-4495-9f8a-678c83513de7",
   "metadata": {},
   "outputs": [],
   "source": [
    "# map names to positions using dict\n",
    "questions_df[\"Minister\"] = questions_df[\"Minister (bevoegdheden)\"].map(minister_competences_2_names_dict)\n",
    "\n",
    "# Inspect results\n",
    "questions_df.head()\n",
    "questions_df[questions_df[\"Minister\"].isna()]\n",
    "questions_df[\"Minister\"].unique()"
   ]
  },
  {
   "cell_type": "markdown",
   "id": "cf6e14ba-ea1f-4219-b6d9-8e3ecffaafbf",
   "metadata": {},
   "source": [
    "Then we perform detailed replacement for the relevant positions that were held by multiple people, based on the relevant time frame as defined above:\n",
    "* Eerste minister\n",
    "* Minister van Begroting en van Ambtenarenzaken, belast met de Nationale Loterij en Wetenschapsbeleid\n",
    "* Vice-eersteminister en Minister van Justitie, belast met de Noordzee \n",
    "* Minister van Ontwikkelingssamenwerking en Grootstedenbeleid\n",
    "* Minister van Ontwikkelingssamenwerking, belast met Grote Steden\n",
    "* Staatssecretaris voor Gendergelijkheid, Gelijke Kansen en Diversiteit, toegevoegd aan de Minister van Mobiliteit\n",
    "* Staatssecretaris voor Begroting en Consumentenbescherming, toegevoegd aan de Minister van Justitie, belast met de Noordzee"
   ]
  },
  {
   "cell_type": "code",
   "execution_count": null,
   "id": "0a5d73eb-4ddf-4a72-ac91-53ea92a7da3d",
   "metadata": {},
   "outputs": [],
   "source": [
    "# Modify 'Minister column' if its value matches 'Eerste minister' based on relevant time frames as indicated above, using the date column\n",
    "    # during Michel II - 9 december 2018 - 27 oktober 2019\n",
    "questions_df.loc[(\n",
    "    questions_df[\"Datum ingediend\"] < \"2019-10-27\") & (\n",
    "        questions_df['Minister'] == 'Alexander De Croo / Sophie Wilmès / Charles Michel'), \"Minister\"] = 'Charles Michel' \n",
    "    # During Wilmès I - 27 oktober 2019 - 30 november 2019 (before exit Reynders) \n",
    "questions_df.loc[(\n",
    "    questions_df[\"Datum ingediend\"] >= \"2019-10-27\") & (\n",
    "        questions_df[\"Datum ingediend\"] < \"2020-10-01\") & (\n",
    "        questions_df['Minister'] == 'Alexander De Croo / Sophie Wilmès / Charles Michel'), \"Minister\"] = 'Sophie Wilmès' \n",
    "    # 1 oktober 2020 - now\n",
    "questions_df.loc[(\n",
    "    questions_df[\"Datum ingediend\"] >= \"2020-09-30\") & (\n",
    "        questions_df['Minister'] == 'Alexander De Croo / Sophie Wilmès / Charles Michel'), \"Minister\"] = 'Alexander De Croo'"
   ]
  },
  {
   "cell_type": "code",
   "execution_count": null,
   "id": "4c292559-a201-411e-8b62-f72b4ce99515",
   "metadata": {},
   "outputs": [],
   "source": [
    "# Modify 'Minister van Begroting en van Ambtenarenzaken, belast met de Nationale Loterij en Wetenschapsbeleid'\n",
    "    # during Michel II (9 december 2018 - 27 oktober 2019) \n",
    "questions_df.loc[(\n",
    "    questions_df[\"Datum ingediend\"] < \"2019-10-27\") & (\n",
    "        questions_df['Minister'] == 'Sophie Wilmès / David Clarinval'), \"Minister\"] = 'Sophie Wilmès' \n",
    "\n",
    "    # During Wilmès-I but before exit Didier Reynders (27 oktober 2019 - 30 november 2019)\n",
    "questions_df.loc[(\n",
    "    questions_df[\"Datum ingediend\"] < \"2019-10-27\") & (\n",
    "        questions_df['Minister'] == 'Sophie Wilmès / David Clarinval'), \"Minister\"] = 'David Clarinval' "
   ]
  },
  {
   "cell_type": "code",
   "execution_count": null,
   "id": "50bf0fab-e3a3-45bd-8c69-0c4347f558a9",
   "metadata": {},
   "outputs": [],
   "source": [
    "# Modify 'Vice-eersteminister en Minister van Justitie, belast met de Noordzee'\n",
    "    # before 22 oktober 2023\n",
    "questions_df.loc[(\n",
    "    questions_df[\"Datum ingediend\"] < \"2023-10-23\") & (\n",
    "        questions_df['Minister'] == 'Vincent Van Quickenborne / Paul Van Tigchelt'), \"Minister\"] = 'Vincent Van Quickenborne'\n",
    "\n",
    "    # after 22 oktober 2023\n",
    "questions_df.loc[(\n",
    "    questions_df[\"Datum ingediend\"] >= \"2023-10-23\") & (\n",
    "        questions_df['Minister'] == 'Vincent Van Quickenborne / Paul Van Tigchelt'), \"Minister\"] = 'Paul Van Tigchelt'"
   ]
  },
  {
   "cell_type": "code",
   "execution_count": null,
   "id": "92271002-a5ed-4b98-86f3-2d5c787fe96f",
   "metadata": {},
   "outputs": [],
   "source": [
    "# Modify 'Minister van Ontwikkelingssamenwerking en Grootstedenbeleid'\n",
    "    # before 17 december 2022\n",
    "questions_df.loc[(\n",
    "    questions_df[\"Datum ingediend\"] < \"2022-12-17\") & (\n",
    "        questions_df['Minister'] == 'Meryame Kitir / Caroline Gennez'), \"Minister\"] = 'Meryame Kitir'\n",
    "\n",
    "    # after 17 december 2022\n",
    "questions_df.loc[(\n",
    "    questions_df[\"Datum ingediend\"] >= \"2022-12-17\") & (\n",
    "        questions_df['Minister'] == 'Meryame Kitir / Caroline Gennez'), \"Minister\"] = 'Caroline Gennez'"
   ]
  },
  {
   "cell_type": "code",
   "execution_count": null,
   "id": "b27f3f8c-7911-45dc-ad4c-bde09fb92e60",
   "metadata": {},
   "outputs": [],
   "source": [
    "# Modify 'Minister van Ontwikkelingssamenwerking, belast met Grote Steden'\n",
    "    # before 17 december 2022\n",
    "questions_df.loc[(\n",
    "    questions_df[\"Datum ingediend\"] < \"2022-12-17\") & (\n",
    "        questions_df['Minister'] == 'Meryame Kitir / Caroline Gennez'), \"Minister\"] = 'Meryame Kitir'\n",
    "\n",
    "    # after 17 december 2022\n",
    "questions_df.loc[(\n",
    "    questions_df[\"Datum ingediend\"] >= \"2022-12-17\") & (\n",
    "        questions_df['Minister'] == 'Meryame Kitir / Caroline Gennez'), \"Minister\"] = 'Caroline Gennez'"
   ]
  },
  {
   "cell_type": "code",
   "execution_count": null,
   "id": "f7f881f5-5fb0-4010-b058-f5b3c6c473dd",
   "metadata": {},
   "outputs": [],
   "source": [
    "# Modify 'Staatssecretaris voor Gendergelijkheid, Gelijke Kansen en Diversiteit, toegevoegd aan de Minister van Mobiliteit'\n",
    "    # before 1 May 2023\n",
    "questions_df.loc[(\n",
    "    questions_df[\"Datum ingediend\"] < \"2023-05-01\") & (\n",
    "        questions_df['Minister'] == 'Sarah Schlitz / Marie-Colline Leroy'), \"Minister\"] = 'Sarah Schlitz'\n",
    "\n",
    "    # after 26 april 2023\n",
    "questions_df.loc[(\n",
    "    questions_df[\"Datum ingediend\"] >= \"2023-05-01\") & (\n",
    "        questions_df['Minister'] == 'Sarah Schlitz / Marie-Colline Leroy'), \"Minister\"] = 'Marie-Colline Leroy'"
   ]
  },
  {
   "cell_type": "code",
   "execution_count": null,
   "id": "19feacde-5d9b-4288-bd1a-91eff82187f0",
   "metadata": {},
   "outputs": [],
   "source": [
    "# Modify 'Staatssecretaris voor Begroting en Consumentenbescherming, toegevoegd aan de Minister van Justitie, belast met de Noordzee'\n",
    "    # before 18 November 2022\n",
    "questions_df.loc[(\n",
    "    questions_df[\"Datum ingediend\"] < \"2022-11-18\") & (\n",
    "        questions_df['Minister'] == 'Eva De Bleeker / Alexia Bertrand'), \"Minister\"] = 'Eva De Bleeker'\n",
    "\n",
    "    # after 26 april 2023\n",
    "questions_df.loc[(\n",
    "    questions_df[\"Datum ingediend\"] >= \"2022-11-18\") & (\n",
    "        questions_df['Minister'] == 'Eva De Bleeker / Alexia Bertrand'), \"Minister\"] = 'Alexia Bertrand'"
   ]
  },
  {
   "cell_type": "code",
   "execution_count": null,
   "id": "5b2a0590-023a-423c-ad94-f78f2aab5d9b",
   "metadata": {},
   "outputs": [],
   "source": [
    "# Inspect results (include check to ensure that names assigned for all posts / competences)\n",
    "questions_df.head()\n",
    "questions_df[questions_df[\"Minister\"].isna()]\n",
    "questions_df[\"Minister\"].unique()"
   ]
  },
  {
   "cell_type": "markdown",
   "id": "0a606fe4-c9f1-45d2-b4a1-46c0c13f4270",
   "metadata": {},
   "source": [
    "## Combine column of subject and url to get clickable markdown link"
   ]
  },
  {
   "cell_type": "code",
   "execution_count": null,
   "id": "86bec672-ee50-49f6-bfbc-bbaeec1c0f9d",
   "metadata": {},
   "outputs": [],
   "source": [
    "# Function to create markdown-style links\n",
    "def create_markdown_link(row):\n",
    "    return f\"[{row['Onderwerp']}]({row['Url publicatie']})\""
   ]
  },
  {
   "cell_type": "code",
   "execution_count": null,
   "id": "f3c803c4-b9a1-475a-97c2-a937e7a0de79",
   "metadata": {},
   "outputs": [],
   "source": [
    "# Apply the function to create a new column 'Onderwerp (url)'\n",
    "questions_df[\"Onderwerp (url)\"]= questions_df.apply(create_markdown_link, axis=1)\n",
    "\n",
    "# # Drop original columns\n",
    "# questions_df = questions_df.drop(['Onderwerp'], axis=1)\n",
    "# questions_df = questions_df.drop(['Url publicatie'], axis=1)"
   ]
  },
  {
   "cell_type": "code",
   "execution_count": null,
   "id": "57007a0c-0856-4fbb-9644-4fb25d741e4a",
   "metadata": {},
   "outputs": [],
   "source": [
    "# Inspect results (include check to ensure that names assigned for all posts / competences)\n",
    "questions_df.head()\n",
    "questions_df.columns"
   ]
  },
  {
   "cell_type": "markdown",
   "id": "0b59316e-71fc-467e-96bd-f8c3a08b9561",
   "metadata": {},
   "source": [
    "# Save output"
   ]
  },
  {
   "cell_type": "code",
   "execution_count": null,
   "id": "dd1d3899-052a-4ab9-aec4-45f7c973b7d4",
   "metadata": {},
   "outputs": [],
   "source": [
    "## Save details_questions_term_df for later use\n",
    "# 1. Save as pkl\n",
    "with open('../data/federal_details_questions_df.pkl', 'wb') as file:\n",
    "    pickle.dump(questions_df, file)\n",
    "\n",
    "# 2. Save as csv\n",
    "questions_df.to_csv(path_or_buf = '../data/federal_details_questions_df.csv',\n",
    "                               sep = \";\",\n",
    "                               encoding = \"utf-16\", # to ensure trema's are well handled (e.g. Koen Daniëls)\n",
    "                               index = False)"
   ]
  },
  {
   "cell_type": "code",
   "execution_count": null,
   "id": "d3d086c2-ad73-4029-b136-96996ed847c1",
   "metadata": {},
   "outputs": [],
   "source": []
  }
 ],
 "metadata": {
  "kernelspec": {
   "display_name": "Python 3 (Spyder)",
   "language": "python3",
   "name": "python3"
  },
  "language_info": {
   "codemirror_mode": {
    "name": "ipython",
    "version": 3
   },
   "file_extension": ".py",
   "mimetype": "text/x-python",
   "name": "python",
   "nbconvert_exporter": "python",
   "pygments_lexer": "ipython3",
   "version": "3.11.7"
  }
 },
 "nbformat": 4,
 "nbformat_minor": 5
}
